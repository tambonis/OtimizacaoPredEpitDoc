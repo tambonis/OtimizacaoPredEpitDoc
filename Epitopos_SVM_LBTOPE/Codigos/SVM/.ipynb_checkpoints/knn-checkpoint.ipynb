{
 "cells": [
  {
   "cell_type": "code",
   "execution_count": 12,
   "metadata": {},
   "outputs": [],
   "source": [
    "########################################################################################################\n",
    "#Tiago Tambonis - 2017 - 2018 - 2019 \n",
    "########################################################################################################"
   ]
  },
  {
   "cell_type": "code",
   "execution_count": 13,
   "metadata": {},
   "outputs": [],
   "source": [
    "#Imports \n",
    "\n",
    "import warnings\n",
    "warnings.filterwarnings(\"ignore\", message=\"numpy.dtype size changed\")\n",
    "warnings.filterwarnings(\"ignore\", message=\"numpy.ufunc size changed\")\n",
    "import pandas as pd\n",
    "import numpy as np\n",
    "from itertools import combinations\n",
    "import matplotlib.pyplot as plt\n",
    "from sklearn.grid_search import GridSearchCV\n",
    "from sklearn.metrics import classification_report, confusion_matrix, accuracy_score, matthews_corrcoef, roc_auc_score\n",
    "from sklearn.svm import SVC\n",
    "from sklearn.preprocessing import StandardScaler, MinMaxScaler\n",
    "import pickle\n",
    "from scipy.spatial.distance import squareform, pdist\n",
    "from sklearn.neighbors import KNeighborsClassifier\n",
    "\n",
    "#random_state=101"
   ]
  },
  {
   "cell_type": "code",
   "execution_count": 14,
   "metadata": {},
   "outputs": [],
   "source": [
    "## Função Suvrel.\n",
    "\n",
    "def suvrel(X, y, gamma=2.0, norm=None, distance=False):\n",
    "    \"\"\"\n",
    "    Return: a metric tensor for the data\n",
    "    X columns representing samples and lines dimentions\n",
    "    y labels\n",
    "    gamma is a float\n",
    "    norm:{None,\\\"unity\\\",\\\"t-test\\\"}\n",
    "    distance: {False, True} if True return a tuple (weights, D)\n",
    "    where D is the distanca matrix of the data\n",
    "    for the geometric approach method\n",
    "    \"\"\"\n",
    "\n",
    "    classes = list(set(y))\n",
    "    n_classes = len(classes)\n",
    "    dim = X.shape[1]\n",
    "\n",
    "    if norm is None or norm == \"unity\":\n",
    "        mean_cl = np.zeros((n_classes, dim))\n",
    "        for i, cl in enumerate(classes):\n",
    "            mean_cl[i] = np.mean(X[y == cl], axis=0)\n",
    "\n",
    "        smeans = np.zeros(dim)\n",
    "        for i, j in combinations(range(n_classes), 2):\n",
    "            smeans += (mean_cl[i] - mean_cl[j]) ** 2\n",
    "\n",
    "        if gamma != 2:\n",
    "            var_cl = np.zeros((n_classes, dim))\n",
    "            for cl in classes:\n",
    "                var_cl[cl] = np.var(X[y == cl], axis=0)\n",
    "            svar = np.sum(var_cl, axis=0)\n",
    "            weights = ((gamma - 2.) * svar \n",
    "                        +  gamma /( n_classes - 1) * smeans)\n",
    "        else:\n",
    "            weights = smeans\n",
    "\n",
    "        weights[weights < 0] = 0\n",
    "\n",
    "        if norm is \"unity\":\n",
    "            weights = weights / np.var(X, axis=0)\n",
    "\n",
    "        if distance:\n",
    "            return (weights / np.sqrt(np.sum(weights ** 2)),\n",
    "                    squareform(pdist(X * np.sqrt(weights))))\n",
    "        else:\n",
    "            return weights / np.sqrt(np.sum(weights ** 2))\n",
    "\n",
    "    elif norm == \"t-test\":\n",
    "        if n_classes == 2:\n",
    "            mean_cl = np.zeros((n_classes, dim))\n",
    "            var_cl = np.zeros((n_classes, dim))\n",
    "            for i, cl in enumerate(classes):\n",
    "                mean_cl[i] = np.mean(X[y == cl], axis=0)\n",
    "                var_cl[i] = np.var(X[y == cl], axis=0)\n",
    "\n",
    "            for i, j in combinations(range(n_classes), 2):\n",
    "                smeans = (mean_cl[i] - mean_cl[j]) ** 2\n",
    "                #tnorm = (var_cl[i] / np.sum([y == classes[i]])\n",
    "                         #+ var_cl[j] / np.sum([y == classes[j]]))\n",
    "\n",
    "                # case with equal variance. Edited by Marcelo 21/10/13\n",
    "                n1 = np.sum([y == classes[i]])\n",
    "                n2 = np.sum([y == classes[j]])\n",
    "                tnorm = ((n1 - 1) * var_cl[i] + (n2 - 1) * var_cl[j]) \\\n",
    "                    / (n1 + n2 - 2)\n",
    "            if gamma != 2:\n",
    "                svar = np.sum(var_cl, axis=0)\n",
    "                weights = ((gamma - 2.) * svar \n",
    "                            +  gamma /( n_classes - 1) * smeans)\n",
    "            else:\n",
    "                weights = smeans\n",
    "            weights = weights / tnorm\n",
    "            weights[weights < 0] = 0\n",
    "\n",
    "            if distance:\n",
    "                return (weights / np.sqrt(np.sum(weights ** 2)),\n",
    "                        squareform(pdist(X * np.sqrt(weights))))\n",
    "            else:\n",
    "                return weights / np.sqrt(np.sum(weights ** 2))\n",
    "\n",
    "        else:\n",
    "            print (\"error: for t-test normalization the number\" +\n",
    "                   \" of classes must be equal 2\")\n",
    "            return None\n",
    "    else:\n",
    "        print \"error: norm options are None, \\\"unity\\\" and  \\\"t-test\\\"\"\n",
    "    return None"
   ]
  },
  {
   "cell_type": "code",
   "execution_count": 15,
   "metadata": {},
   "outputs": [],
   "source": [
    "def info(X, y, modelo):\n",
    "    \n",
    "    predic = modelo.predict(X)\n",
    "    \n",
    "    #Matriz confusão\n",
    "    print(\"Matriz confusão:\")\n",
    "    print(confusion_matrix(y, predic))\n",
    "    \n",
    "    #Medidas\n",
    "    print(\"Medidas:\")\n",
    "    print(classification_report(y ,predic))\n",
    "    \n",
    "    #Mathew\n",
    "    print(\"MCC\")\n",
    "    print(matthews_corrcoef(y, predic))\n",
    "    \n",
    "    #ROC-AUC\n",
    "    print(\"ROC-AUC\")\n",
    "    print(roc_auc_score(y, predic))\n",
    "        \n",
    "    return(accuracy_score(y, predic, normalize=True), classification_report(y, predic), \n",
    "          matthews_corrcoef(y, predic), roc_auc_score(y, predic))"
   ]
  },
  {
   "cell_type": "code",
   "execution_count": 16,
   "metadata": {},
   "outputs": [],
   "source": [
    "#Carregar dados \n",
    "\n",
    "if False: \n",
    "    \n",
    "    with open('../Sequencias/DadosTreinoFeaturizados', 'rb') as fp:\n",
    "            DadosTreinoFeaturizados = pickle.load(fp)\n",
    "    with open('../Sequencias/DadosTesteFeaturizados', 'rb') as fp:\n",
    "            DadosTesteFeaturizados = pickle.load(fp)\n",
    "\n",
    "if True: \n",
    "    \n",
    "    with open('../Sequencias/DadosTreinoCru', 'rb') as fp:\n",
    "            DadosTreinoFeaturizados = pickle.load(fp)\n",
    "    with open('../Sequencias/DadosTesteCru', 'rb') as fp:\n",
    "            DadosTesteFeaturizados = pickle.load(fp)"
   ]
  },
  {
   "cell_type": "code",
   "execution_count": 17,
   "metadata": {},
   "outputs": [
    {
     "name": "stdout",
     "output_type": "stream",
     "text": [
      "(14103, 401)\n",
      "(1568, 401)\n"
     ]
    }
   ],
   "source": [
    "print(DadosTreinoFeaturizados.shape)\n",
    "print(DadosTesteFeaturizados.shape)"
   ]
  },
  {
   "cell_type": "code",
   "execution_count": 18,
   "metadata": {},
   "outputs": [],
   "source": [
    "#DadosTreinoFeaturizados.head(n=3)"
   ]
  },
  {
   "cell_type": "code",
   "execution_count": 19,
   "metadata": {},
   "outputs": [],
   "source": [
    "#DadosTesteFeaturizados.head(n=3)"
   ]
  },
  {
   "cell_type": "markdown",
   "metadata": {},
   "source": [
    "# Run "
   ]
  },
  {
   "cell_type": "code",
   "execution_count": 20,
   "metadata": {},
   "outputs": [],
   "source": [
    "y_treino = np.array(DadosTreinoFeaturizados['Classe'])           \n",
    "y_teste = np.array(DadosTesteFeaturizados['Classe'])                         \n",
    "\n",
    "X_treino = DadosTreinoFeaturizados.drop(['Classe'], 1)\n",
    "X_teste = DadosTesteFeaturizados.drop(['Classe'], 1)\n",
    "X_treino_efetivo = np.copy(X_treino)"
   ]
  },
  {
   "cell_type": "code",
   "execution_count": 21,
   "metadata": {},
   "outputs": [],
   "source": [
    "#Normalização e featurização\n",
    "    \n",
    "normalizar = False\n",
    "usarsuvrel = False\n",
    "\n",
    "if normalizar:\n",
    "\n",
    "    scaler = StandardScaler()\n",
    "    X_treino = scaler.fit(X_treino).transform(X_treino)\n",
    "    X_treino_efetivo = scaler.transform(X_treino_efetivo)\n",
    "    X_teste = scaler.transform(X_teste)\n",
    "    \n",
    "if usarsuvrel: \n",
    "\n",
    "    w = suvrel(X=X_treino, y=y_treino)\n",
    "    w = np.sqrt(w)\n",
    "\n",
    "    X_treino_efetivo = w*X_treino_efetivo\n",
    "\n",
    "    X_teste = w*X_teste"
   ]
  },
  {
   "cell_type": "code",
   "execution_count": 22,
   "metadata": {},
   "outputs": [
    {
     "name": "stdout",
     "output_type": "stream",
     "text": [
      "251503\n"
     ]
    },
    {
     "ename": "KeyError",
     "evalue": "(0, 1)",
     "output_type": "error",
     "traceback": [
      "\u001b[0;31m\u001b[0m",
      "\u001b[0;31mKeyError\u001b[0mTraceback (most recent call last)",
      "\u001b[0;32m<ipython-input-22-b40a19ebed37>\u001b[0m in \u001b[0;36m<module>\u001b[0;34m()\u001b[0m\n\u001b[1;32m      3\u001b[0m \u001b[0;32mprint\u001b[0m\u001b[0;34m(\u001b[0m\u001b[0mnp\u001b[0m\u001b[0;34m.\u001b[0m\u001b[0msum\u001b[0m\u001b[0;34m(\u001b[0m\u001b[0mnp\u001b[0m\u001b[0;34m.\u001b[0m\u001b[0misclose\u001b[0m\u001b[0;34m(\u001b[0m\u001b[0mX_treino_efetivo\u001b[0m\u001b[0;34m,\u001b[0m \u001b[0mX_treino\u001b[0m\u001b[0;34m,\u001b[0m \u001b[0matol\u001b[0m\u001b[0;34m=\u001b[0m\u001b[0;36m0.1\u001b[0m\u001b[0;34m)\u001b[0m\u001b[0;34m==\u001b[0m\u001b[0mFalse\u001b[0m\u001b[0;34m)\u001b[0m\u001b[0;34m)\u001b[0m\u001b[0;34m\u001b[0m\u001b[0m\n\u001b[1;32m      4\u001b[0m \u001b[0mdiffs\u001b[0m \u001b[0;34m=\u001b[0m \u001b[0mnp\u001b[0m\u001b[0;34m.\u001b[0m\u001b[0margwhere\u001b[0m\u001b[0;34m(\u001b[0m\u001b[0mnp\u001b[0m\u001b[0;34m.\u001b[0m\u001b[0misclose\u001b[0m\u001b[0;34m(\u001b[0m\u001b[0mX_treino_efetivo\u001b[0m\u001b[0;34m,\u001b[0m \u001b[0mX_treino\u001b[0m\u001b[0;34m,\u001b[0m \u001b[0matol\u001b[0m\u001b[0;34m=\u001b[0m\u001b[0;36m0.1\u001b[0m\u001b[0;34m)\u001b[0m\u001b[0;34m==\u001b[0m\u001b[0mFalse\u001b[0m\u001b[0;34m)\u001b[0m\u001b[0;34m\u001b[0m\u001b[0m\n\u001b[0;32m----> 5\u001b[0;31m \u001b[0;32mprint\u001b[0m\u001b[0;34m(\u001b[0m\u001b[0mX_treino\u001b[0m\u001b[0;34m[\u001b[0m\u001b[0mdiffs\u001b[0m\u001b[0;34m[\u001b[0m\u001b[0;36m0\u001b[0m\u001b[0;34m,\u001b[0m\u001b[0;36m0\u001b[0m\u001b[0;34m]\u001b[0m\u001b[0;34m,\u001b[0m \u001b[0mdiffs\u001b[0m\u001b[0;34m[\u001b[0m\u001b[0;36m0\u001b[0m\u001b[0;34m,\u001b[0m\u001b[0;36m1\u001b[0m\u001b[0;34m]\u001b[0m\u001b[0;34m]\u001b[0m\u001b[0;34m)\u001b[0m\u001b[0;34m\u001b[0m\u001b[0m\n\u001b[0m\u001b[1;32m      6\u001b[0m \u001b[0;32mprint\u001b[0m\u001b[0;34m(\u001b[0m\u001b[0mX_treino_efetivo\u001b[0m\u001b[0;34m[\u001b[0m\u001b[0mdiffs\u001b[0m\u001b[0;34m[\u001b[0m\u001b[0;36m0\u001b[0m\u001b[0;34m,\u001b[0m\u001b[0;36m0\u001b[0m\u001b[0;34m]\u001b[0m\u001b[0;34m,\u001b[0m \u001b[0mdiffs\u001b[0m\u001b[0;34m[\u001b[0m\u001b[0;36m0\u001b[0m\u001b[0;34m,\u001b[0m\u001b[0;36m1\u001b[0m\u001b[0;34m]\u001b[0m\u001b[0;34m]\u001b[0m\u001b[0;34m)\u001b[0m\u001b[0;34m\u001b[0m\u001b[0m\n",
      "\u001b[0;32m/home/tambonis/.local/lib/python2.7/site-packages/pandas/core/frame.pyc\u001b[0m in \u001b[0;36m__getitem__\u001b[0;34m(self, key)\u001b[0m\n\u001b[1;32m   2925\u001b[0m             \u001b[0;32mif\u001b[0m \u001b[0mself\u001b[0m\u001b[0;34m.\u001b[0m\u001b[0mcolumns\u001b[0m\u001b[0;34m.\u001b[0m\u001b[0mnlevels\u001b[0m \u001b[0;34m>\u001b[0m \u001b[0;36m1\u001b[0m\u001b[0;34m:\u001b[0m\u001b[0;34m\u001b[0m\u001b[0m\n\u001b[1;32m   2926\u001b[0m                 \u001b[0;32mreturn\u001b[0m \u001b[0mself\u001b[0m\u001b[0;34m.\u001b[0m\u001b[0m_getitem_multilevel\u001b[0m\u001b[0;34m(\u001b[0m\u001b[0mkey\u001b[0m\u001b[0;34m)\u001b[0m\u001b[0;34m\u001b[0m\u001b[0m\n\u001b[0;32m-> 2927\u001b[0;31m             \u001b[0mindexer\u001b[0m \u001b[0;34m=\u001b[0m \u001b[0mself\u001b[0m\u001b[0;34m.\u001b[0m\u001b[0mcolumns\u001b[0m\u001b[0;34m.\u001b[0m\u001b[0mget_loc\u001b[0m\u001b[0;34m(\u001b[0m\u001b[0mkey\u001b[0m\u001b[0;34m)\u001b[0m\u001b[0;34m\u001b[0m\u001b[0m\n\u001b[0m\u001b[1;32m   2928\u001b[0m             \u001b[0;32mif\u001b[0m \u001b[0mis_integer\u001b[0m\u001b[0;34m(\u001b[0m\u001b[0mindexer\u001b[0m\u001b[0;34m)\u001b[0m\u001b[0;34m:\u001b[0m\u001b[0;34m\u001b[0m\u001b[0m\n\u001b[1;32m   2929\u001b[0m                 \u001b[0mindexer\u001b[0m \u001b[0;34m=\u001b[0m \u001b[0;34m[\u001b[0m\u001b[0mindexer\u001b[0m\u001b[0;34m]\u001b[0m\u001b[0;34m\u001b[0m\u001b[0m\n",
      "\u001b[0;32m/home/tambonis/.local/lib/python2.7/site-packages/pandas/core/indexes/base.pyc\u001b[0m in \u001b[0;36mget_loc\u001b[0;34m(self, key, method, tolerance)\u001b[0m\n\u001b[1;32m   2656\u001b[0m                 \u001b[0;32mreturn\u001b[0m \u001b[0mself\u001b[0m\u001b[0;34m.\u001b[0m\u001b[0m_engine\u001b[0m\u001b[0;34m.\u001b[0m\u001b[0mget_loc\u001b[0m\u001b[0;34m(\u001b[0m\u001b[0mkey\u001b[0m\u001b[0;34m)\u001b[0m\u001b[0;34m\u001b[0m\u001b[0m\n\u001b[1;32m   2657\u001b[0m             \u001b[0;32mexcept\u001b[0m \u001b[0mKeyError\u001b[0m\u001b[0;34m:\u001b[0m\u001b[0;34m\u001b[0m\u001b[0m\n\u001b[0;32m-> 2658\u001b[0;31m                 \u001b[0;32mreturn\u001b[0m \u001b[0mself\u001b[0m\u001b[0;34m.\u001b[0m\u001b[0m_engine\u001b[0m\u001b[0;34m.\u001b[0m\u001b[0mget_loc\u001b[0m\u001b[0;34m(\u001b[0m\u001b[0mself\u001b[0m\u001b[0;34m.\u001b[0m\u001b[0m_maybe_cast_indexer\u001b[0m\u001b[0;34m(\u001b[0m\u001b[0mkey\u001b[0m\u001b[0;34m)\u001b[0m\u001b[0;34m)\u001b[0m\u001b[0;34m\u001b[0m\u001b[0m\n\u001b[0m\u001b[1;32m   2659\u001b[0m         \u001b[0mindexer\u001b[0m \u001b[0;34m=\u001b[0m \u001b[0mself\u001b[0m\u001b[0;34m.\u001b[0m\u001b[0mget_indexer\u001b[0m\u001b[0;34m(\u001b[0m\u001b[0;34m[\u001b[0m\u001b[0mkey\u001b[0m\u001b[0;34m]\u001b[0m\u001b[0;34m,\u001b[0m \u001b[0mmethod\u001b[0m\u001b[0;34m=\u001b[0m\u001b[0mmethod\u001b[0m\u001b[0;34m,\u001b[0m \u001b[0mtolerance\u001b[0m\u001b[0;34m=\u001b[0m\u001b[0mtolerance\u001b[0m\u001b[0;34m)\u001b[0m\u001b[0;34m\u001b[0m\u001b[0m\n\u001b[1;32m   2660\u001b[0m         \u001b[0;32mif\u001b[0m \u001b[0mindexer\u001b[0m\u001b[0;34m.\u001b[0m\u001b[0mndim\u001b[0m \u001b[0;34m>\u001b[0m \u001b[0;36m1\u001b[0m \u001b[0;32mor\u001b[0m \u001b[0mindexer\u001b[0m\u001b[0;34m.\u001b[0m\u001b[0msize\u001b[0m \u001b[0;34m>\u001b[0m \u001b[0;36m1\u001b[0m\u001b[0;34m:\u001b[0m\u001b[0;34m\u001b[0m\u001b[0m\n",
      "\u001b[0;32mpandas/_libs/index.pyx\u001b[0m in \u001b[0;36mpandas._libs.index.IndexEngine.get_loc\u001b[0;34m()\u001b[0m\n",
      "\u001b[0;32mpandas/_libs/index.pyx\u001b[0m in \u001b[0;36mpandas._libs.index.IndexEngine.get_loc\u001b[0;34m()\u001b[0m\n",
      "\u001b[0;32mpandas/_libs/hashtable_class_helper.pxi\u001b[0m in \u001b[0;36mpandas._libs.hashtable.PyObjectHashTable.get_item\u001b[0;34m()\u001b[0m\n",
      "\u001b[0;32mpandas/_libs/hashtable_class_helper.pxi\u001b[0m in \u001b[0;36mpandas._libs.hashtable.PyObjectHashTable.get_item\u001b[0;34m()\u001b[0m\n",
      "\u001b[0;31mKeyError\u001b[0m: (0, 1)"
     ]
    }
   ],
   "source": [
    "#Cheque se são diferentes\n",
    "\n",
    "print(np.sum(np.isclose(X_treino_efetivo, X_treino, atol=0.1)==False))\n",
    "diffs = np.argwhere(np.isclose(X_treino_efetivo, X_treino, atol=0.1)==False)\n",
    "print(X_treino[diffs[0,0], diffs[0,1]])\n",
    "print(X_treino_efetivo[diffs[0,0], diffs[0,1]])"
   ]
  },
  {
   "cell_type": "code",
   "execution_count": 23,
   "metadata": {},
   "outputs": [],
   "source": [
    "#pd.DataFrame(X_treino).head(n=5)"
   ]
  },
  {
   "cell_type": "code",
   "execution_count": 24,
   "metadata": {},
   "outputs": [],
   "source": [
    "#pd.DataFrame(X_treino_efetivo).head(n=5)"
   ]
  },
  {
   "cell_type": "code",
   "execution_count": 25,
   "metadata": {},
   "outputs": [
    {
     "data": {
      "text/plain": [
       "GridSearchCV(cv=10, error_score='raise',\n",
       "       estimator=KNeighborsClassifier(algorithm='auto', leaf_size=30, metric='minkowski',\n",
       "           metric_params=None, n_jobs=1, n_neighbors=5, p=2,\n",
       "           weights='uniform'),\n",
       "       fit_params={}, iid=True, n_jobs=11,\n",
       "       param_grid={'n_neighbors': [1, 2, 3, 4, 5, 6, 7, 8, 9, 10, 11, 12, 13, 14, 15, 16, 17, 18, 19, 20, 21, 22, 23, 24, 25, 26, 27, 28, 29, 30]},\n",
       "       pre_dispatch='2*n_jobs', refit=True, scoring='accuracy', verbose=0)"
      ]
     },
     "execution_count": 25,
     "metadata": {},
     "output_type": "execute_result"
    }
   ],
   "source": [
    "#KNN \n",
    "\n",
    "knn = KNeighborsClassifier()\n",
    "k_range = list(range(1, 31))\n",
    "param_grid = dict(n_neighbors=k_range)\n",
    "grid = GridSearchCV(knn, param_grid, cv=10, scoring='accuracy', n_jobs=11)\n",
    "grid.fit(X_treino_efetivo, y_treino)"
   ]
  },
  {
   "cell_type": "code",
   "execution_count": 26,
   "metadata": {},
   "outputs": [],
   "source": [
    "#grid.grid_scores_"
   ]
  },
  {
   "cell_type": "code",
   "execution_count": 27,
   "metadata": {},
   "outputs": [
    {
     "name": "stdout",
     "output_type": "stream",
     "text": [
      "Parameters\n",
      "{'n_neighbors': 1}\n",
      "\n",
      "CV Validation Score\n",
      "[0.61374911 0.60240964 0.59177888 0.61374911 0.60595322 0.62624113\n",
      " 0.61631206 0.60425532 0.6146203  0.61249113]\n",
      "\n",
      "Mean Validation Score\n",
      "0.610153867971\n"
     ]
    }
   ],
   "source": [
    "# examine the first tuple\n",
    "# we will slice the list and select its elements using dot notation and []\n",
    "\n",
    "print('Parameters')\n",
    "print(grid.grid_scores_[0].parameters)\n",
    "\n",
    "# Array of 10 accuracy scores during 10-fold cv using the parameters\n",
    "print('')\n",
    "print('CV Validation Score')\n",
    "print(grid.grid_scores_[0].cv_validation_scores)\n",
    "\n",
    "# Mean of the 10 scores\n",
    "print('')\n",
    "print('Mean Validation Score')\n",
    "print(grid.grid_scores_[0].mean_validation_score)"
   ]
  },
  {
   "cell_type": "code",
   "execution_count": 28,
   "metadata": {},
   "outputs": [
    {
     "data": {
      "text/plain": [
       "Text(0,0.5,u'Cross-Validated Accuracy')"
      ]
     },
     "execution_count": 28,
     "metadata": {},
     "output_type": "execute_result"
    },
    {
     "data": {
      "image/png": "[encoded data removed]",
      "text/plain": [
       "<matplotlib.figure.Figure at 0x7f62cfed7850>"
      ]
     },
     "metadata": {
      "needs_background": "light"
     },
     "output_type": "display_data"
    }
   ],
   "source": [
    "# create a list of the mean scores only\n",
    "# list comprehension to loop through grid.grid_scores\n",
    "grid_mean_scores = [result.mean_validation_score for result in grid.grid_scores_]\n",
    "\n",
    "# plot the results\n",
    "# this is identical to the one we generated above\n",
    "plt.plot(k_range, grid_mean_scores)\n",
    "plt.xlabel('Value of K for KNN')\n",
    "plt.ylabel('Cross-Validated Accuracy')"
   ]
  },
  {
   "cell_type": "code",
   "execution_count": 29,
   "metadata": {},
   "outputs": [
    {
     "name": "stdout",
     "output_type": "stream",
     "text": [
      "\n",
      " SVM amplo - Teste\n",
      "Matriz confusão:\n",
      "[[523 263]\n",
      " [329 453]]\n",
      "Medidas:\n",
      "             precision    recall  f1-score   support\n",
      "\n",
      "       -1.0       0.61      0.67      0.64       786\n",
      "        1.0       0.63      0.58      0.60       782\n",
      "\n",
      "avg / total       0.62      0.62      0.62      1568\n",
      "\n",
      "MCC\n",
      "0.2456030618948119\n",
      "ROC-AUC\n",
      "0.6223391447518272\n",
      "('Acuracia', 0.6224489795918368)\n"
     ]
    }
   ],
   "source": [
    "print(\"\\n SVM amplo - Teste\")\n",
    "#print(info(X=X_test, y=y_test, modelo=melhor_amplo))\n",
    "teste_acuracia, teste_report, teste_mcc, teste_AUC = info(X=X_teste, y=y_teste, modelo=grid.best_estimator_)\n",
    "print(\"Acuracia\", teste_acuracia)"
   ]
  },
  {
   "cell_type": "code",
   "execution_count": 30,
   "metadata": {},
   "outputs": [],
   "source": [
    "if False: \n",
    "    \n",
    "    weight_options = ['uniform', 'distance']\n",
    "\n",
    "    param_grid = dict(n_neighbors=k_range, weights=weight_options)\n",
    "    print(param_grid)\n",
    "\n",
    "    grid = GridSearchCV(knn, param_grid, cv=10, scoring='accuracy')\n",
    "\n",
    "    grid\n",
    "\n",
    "    grid.fit(X_treino_efetivo, y_treino)"
   ]
  },
  {
   "cell_type": "code",
   "execution_count": 31,
   "metadata": {},
   "outputs": [
    {
     "name": "stdout",
     "output_type": "stream",
     "text": [
      "OK\n"
     ]
    }
   ],
   "source": [
    "print(\"OK\")"
   ]
  }
 ],
 "metadata": {
  "kernelspec": {
   "display_name": "Python 2",
   "language": "python",
   "name": "python2"
  },
  "language_info": {
   "codemirror_mode": {
    "name": "ipython",
    "version": 2
   },
   "file_extension": ".py",
   "mimetype": "text/x-python",
   "name": "python",
   "nbconvert_exporter": "python",
   "pygments_lexer": "ipython2",
   "version": "2.7.12"
  }
 },
 "nbformat": 4,
 "nbformat_minor": 2
}

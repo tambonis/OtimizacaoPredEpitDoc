{
 "cells": [
  {
   "cell_type": "code",
   "execution_count": 1,
   "metadata": {},
   "outputs": [],
   "source": [
    "########################################################################################################\n",
    "#Tiago Tambonis - 2017 - 2018 - 2019 \n",
    "#Observação: Cuidado com as definições de variáveis no arquivo Geração_imuno.sh e Geração_Non_imuno.sh.\n",
    "#Na atual definição estou considerando somente 1 vizinho. Atenção ao scoring associado à GridSearch.\n",
    "#Objetivo: avaliar os resultados preditivos sem uso do Suvrel.\n",
    "#FEATURE SELECTION WITH MRMR.\n",
    "########################################################################################################"
   ]
  },
  {
   "cell_type": "code",
   "execution_count": 3,
   "metadata": {},
   "outputs": [],
   "source": [
    "#Imports \n",
    "\n",
    "import warnings\n",
    "warnings.filterwarnings(\"ignore\", message=\"numpy.dtype size changed\")\n",
    "warnings.filterwarnings(\"ignore\", message=\"numpy.ufunc size changed\")\n",
    "import pandas as pd\n",
    "import numpy as np\n",
    "from itertools import combinations\n",
    "import matplotlib.pyplot as plt\n",
    "from sklearn.grid_search import GridSearchCV\n",
    "from sklearn.metrics import classification_report, confusion_matrix, accuracy_score, matthews_corrcoef, roc_auc_score\n",
    "from sklearn.svm import SVC\n",
    "from sklearn.preprocessing import StandardScaler\n",
    "import pickle\n",
    "\n",
    "#random_state=101"
   ]
  },
  {
   "cell_type": "code",
   "execution_count": 5,
   "metadata": {},
   "outputs": [],
   "source": [
    "def SVM_T(X, y, custos, gammas, kverbose, kcv, kjobs):\n",
    "\n",
    "    param_grid = {'C':custos,'gamma':gammas, 'kernel':['rbf']}\n",
    "    grid = GridSearchCV(SVC(probability=True), param_grid, refit = True, \n",
    "                        verbose=kverbose, cv=kcv, n_jobs=kjobs, scoring='roc_auc') #scoring='roc_auc'\n",
    "\n",
    "    grid.fit(X, y)\n",
    "    \n",
    "    return(grid.best_estimator_, grid.grid_scores_)"
   ]
  },
  {
   "cell_type": "code",
   "execution_count": 6,
   "metadata": {},
   "outputs": [],
   "source": [
    "def info(X, y, modelo):\n",
    "    \n",
    "    predic = modelo.predict(X)\n",
    "    \n",
    "    #Matriz confusão\n",
    "    print(\"Matriz confusão:\")\n",
    "    print(confusion_matrix(y, predic))\n",
    "    \n",
    "    #Medidas\n",
    "    print(\"Medidas:\")\n",
    "    print(classification_report(y ,predic))\n",
    "    \n",
    "    #Mathew\n",
    "    print(\"MCC\")\n",
    "    print(matthews_corrcoef(y, predic))\n",
    "    \n",
    "    #ROC-AUC\n",
    "    print(\"ROC-AUC\")\n",
    "    print(roc_auc_score(y, predic))\n",
    "        \n",
    "    return(accuracy_score(y, predic, normalize=True), classification_report(y, predic), \n",
    "          matthews_corrcoef(y, predic), roc_auc_score(y, predic))"
   ]
  },
  {
   "cell_type": "code",
   "execution_count": 7,
   "metadata": {},
   "outputs": [],
   "source": [
    "## Função para cálculo da raiz do single value decomposition aplicado no tensor.\n",
    "\n",
    "def svd_epslon(X, y, kgamma):\n",
    "    \n",
    "    epslon = Suvrel(tab=X, classe=y, gamma=kgamma)\n",
    "    u, s, vh = np.linalg.svd(epslon, full_matrices=True)\n",
    "    s = np.sqrt(s)\n",
    "    epslon = np.dot(u[:, :(epslon.shape[1])] * s, vh)\n",
    "    #epslon[epslon<0]=0\n",
    "    \n",
    "    return(s, epslon)"
   ]
  },
  {
   "cell_type": "code",
   "execution_count": 8,
   "metadata": {},
   "outputs": [],
   "source": [
    "# Função Suvrel\n",
    "\n",
    "def Suvrel(tab, classe, gamma):\n",
    "\n",
    "    tab = np.column_stack([tab, classe])\n",
    "\n",
    "    K = 2.0\n",
    "\n",
    "    N = tab.shape[1] - 1\n",
    "    epslon = np.zeros((N,N))\n",
    "\n",
    "    for u in range(N):\n",
    "        for v in range(N):\n",
    "            mu = np.mean(tab[(tab[:,-1] == 1)][:,u]), np.mean(tab[(tab[:,-1] == -1)][:,u])\n",
    "            mv = np.mean(tab[(tab[:,-1] == 1)][:,v]), np.mean(tab[(tab[:,-1] == -1)][:,v])\n",
    "\n",
    "            epslon[u,v] = (2.0 - (K-1.0)*gamma)*(np.cov(tab[(tab[:,-1] == 1)][:,u], tab[(tab[:,-1] == 1)][:,v])[0][1] + \\\n",
    "                      np.cov(tab[(tab[:,-1] == -1)][:,u], tab[(tab[:,-1] == -1)][:,v])[0][1]) - \\\n",
    "                      gamma*K*K*np.cov(mu,mv)[0][1]\n",
    "\n",
    "\n",
    "    epslon = (-1.0*epslon)/np.sqrt(np.sum(epslon*epslon))\n",
    "\n",
    "    #Teste de verificação. \n",
    "    print(\"Teste de verificacao (Somatorio do quadrado dos pesos): \", np.sum(epslon*epslon))\n",
    "\n",
    "    return(epslon)"
   ]
  },
  {
   "cell_type": "code",
   "execution_count": 9,
   "metadata": {},
   "outputs": [],
   "source": [
    "def plotacuracias(modelo_acuracias):\n",
    "        plotcustos = []\n",
    "        plotgammas = []\n",
    "        plotaccs = []\n",
    "        for i in range(len(modelo_acuracias)):\n",
    "            temp = modelo_acuracias[i][0]\n",
    "            plotcustos.append(temp['C'])\n",
    "            plotgammas.append(temp['gamma'])\n",
    "            plotaccs.append(modelo_acuracias[i][1])\n",
    "\n",
    "        plt.scatter(plotgammas, plotcustos, edgecolors='none', c=plotaccs)\n",
    "        plt.colorbar()\n",
    "        plt.title('Comportamento das acuracias')\n",
    "        plt.xlabel(\"Gammas\")\n",
    "        plt.ylabel(\"Custos\")\n",
    "        #plt.legend(loc='Acuracias')"
   ]
  },
  {
   "cell_type": "code",
   "execution_count": 13,
   "metadata": {},
   "outputs": [],
   "source": [
    "#Definição dos parâmetros.\n",
    "\n",
    "with open('../Sequencias/MelhorGamma', 'rb') as fp:\n",
    "        kgamma = pickle.load(fp)\n",
    "with open('../Sequencias/MelhorNumeroFeatures', 'rb') as fp:\n",
    "        MelhorKFeatures = pickle.load(fp)\n",
    "\n",
    "#MelhorKFeatures = 300\n",
    "kpasso = 1\n",
    "kcv = 5\n",
    "kjobs = -1\n",
    "kverbose = 1"
   ]
  },
  {
   "cell_type": "code",
   "execution_count": 14,
   "metadata": {},
   "outputs": [
    {
     "ename": "ImportError",
     "evalue": "No module named indexes.base",
     "output_type": "error",
     "traceback": [
      "\u001b[0;31m---------------------------------------------------------------------------\u001b[0m",
      "\u001b[0;31mImportError\u001b[0m                               Traceback (most recent call last)",
      "\u001b[0;32m<ipython-input-14-c8bb56773ce8>\u001b[0m in \u001b[0;36m<module>\u001b[0;34m()\u001b[0m\n\u001b[1;32m      1\u001b[0m \u001b[0;31m#Carregar dados\u001b[0m\u001b[0;34m\u001b[0m\u001b[0;34m\u001b[0m\u001b[0m\n\u001b[1;32m      2\u001b[0m \u001b[0;32mwith\u001b[0m \u001b[0mopen\u001b[0m\u001b[0;34m(\u001b[0m\u001b[0;34m'../Sequencias/DadosTreinoFeaturizados'\u001b[0m\u001b[0;34m,\u001b[0m \u001b[0;34m'rb'\u001b[0m\u001b[0;34m)\u001b[0m \u001b[0;32mas\u001b[0m \u001b[0mfp\u001b[0m\u001b[0;34m:\u001b[0m\u001b[0;34m\u001b[0m\u001b[0m\n\u001b[0;32m----> 3\u001b[0;31m         \u001b[0mDadosTreinoFeaturizados\u001b[0m \u001b[0;34m=\u001b[0m \u001b[0mpickle\u001b[0m\u001b[0;34m.\u001b[0m\u001b[0mload\u001b[0m\u001b[0;34m(\u001b[0m\u001b[0mfp\u001b[0m\u001b[0;34m)\u001b[0m\u001b[0;34m\u001b[0m\u001b[0m\n\u001b[0m\u001b[1;32m      4\u001b[0m \u001b[0;32mwith\u001b[0m \u001b[0mopen\u001b[0m\u001b[0;34m(\u001b[0m\u001b[0;34m'../Sequencias/DadosTesteFeaturizados'\u001b[0m\u001b[0;34m,\u001b[0m \u001b[0;34m'rb'\u001b[0m\u001b[0;34m)\u001b[0m \u001b[0;32mas\u001b[0m \u001b[0mfp\u001b[0m\u001b[0;34m:\u001b[0m\u001b[0;34m\u001b[0m\u001b[0m\n\u001b[1;32m      5\u001b[0m         \u001b[0mDadosTesteFeaturizados\u001b[0m \u001b[0;34m=\u001b[0m \u001b[0mpickle\u001b[0m\u001b[0;34m.\u001b[0m\u001b[0mload\u001b[0m\u001b[0;34m(\u001b[0m\u001b[0mfp\u001b[0m\u001b[0;34m)\u001b[0m\u001b[0;34m\u001b[0m\u001b[0m\n",
      "\u001b[0;32m/usr/lib/python2.7/pickle.pyc\u001b[0m in \u001b[0;36mload\u001b[0;34m(file)\u001b[0m\n\u001b[1;32m   1382\u001b[0m \u001b[0;34m\u001b[0m\u001b[0m\n\u001b[1;32m   1383\u001b[0m \u001b[0;32mdef\u001b[0m \u001b[0mload\u001b[0m\u001b[0;34m(\u001b[0m\u001b[0mfile\u001b[0m\u001b[0;34m)\u001b[0m\u001b[0;34m:\u001b[0m\u001b[0;34m\u001b[0m\u001b[0m\n\u001b[0;32m-> 1384\u001b[0;31m     \u001b[0;32mreturn\u001b[0m \u001b[0mUnpickler\u001b[0m\u001b[0;34m(\u001b[0m\u001b[0mfile\u001b[0m\u001b[0;34m)\u001b[0m\u001b[0;34m.\u001b[0m\u001b[0mload\u001b[0m\u001b[0;34m(\u001b[0m\u001b[0;34m)\u001b[0m\u001b[0;34m\u001b[0m\u001b[0m\n\u001b[0m\u001b[1;32m   1385\u001b[0m \u001b[0;34m\u001b[0m\u001b[0m\n\u001b[1;32m   1386\u001b[0m \u001b[0;32mdef\u001b[0m \u001b[0mloads\u001b[0m\u001b[0;34m(\u001b[0m\u001b[0mstr\u001b[0m\u001b[0;34m)\u001b[0m\u001b[0;34m:\u001b[0m\u001b[0;34m\u001b[0m\u001b[0m\n",
      "\u001b[0;32m/usr/lib/python2.7/pickle.pyc\u001b[0m in \u001b[0;36mload\u001b[0;34m(self)\u001b[0m\n\u001b[1;32m    862\u001b[0m             \u001b[0;32mwhile\u001b[0m \u001b[0;36m1\u001b[0m\u001b[0;34m:\u001b[0m\u001b[0;34m\u001b[0m\u001b[0m\n\u001b[1;32m    863\u001b[0m                 \u001b[0mkey\u001b[0m \u001b[0;34m=\u001b[0m \u001b[0mread\u001b[0m\u001b[0;34m(\u001b[0m\u001b[0;36m1\u001b[0m\u001b[0;34m)\u001b[0m\u001b[0;34m\u001b[0m\u001b[0m\n\u001b[0;32m--> 864\u001b[0;31m                 \u001b[0mdispatch\u001b[0m\u001b[0;34m[\u001b[0m\u001b[0mkey\u001b[0m\u001b[0;34m]\u001b[0m\u001b[0;34m(\u001b[0m\u001b[0mself\u001b[0m\u001b[0;34m)\u001b[0m\u001b[0;34m\u001b[0m\u001b[0m\n\u001b[0m\u001b[1;32m    865\u001b[0m         \u001b[0;32mexcept\u001b[0m \u001b[0m_Stop\u001b[0m\u001b[0;34m,\u001b[0m \u001b[0mstopinst\u001b[0m\u001b[0;34m:\u001b[0m\u001b[0;34m\u001b[0m\u001b[0m\n\u001b[1;32m    866\u001b[0m             \u001b[0;32mreturn\u001b[0m \u001b[0mstopinst\u001b[0m\u001b[0;34m.\u001b[0m\u001b[0mvalue\u001b[0m\u001b[0;34m\u001b[0m\u001b[0m\n",
      "\u001b[0;32m/usr/lib/python2.7/pickle.pyc\u001b[0m in \u001b[0;36mload_global\u001b[0;34m(self)\u001b[0m\n\u001b[1;32m   1094\u001b[0m         \u001b[0mmodule\u001b[0m \u001b[0;34m=\u001b[0m \u001b[0mself\u001b[0m\u001b[0;34m.\u001b[0m\u001b[0mreadline\u001b[0m\u001b[0;34m(\u001b[0m\u001b[0;34m)\u001b[0m\u001b[0;34m[\u001b[0m\u001b[0;34m:\u001b[0m\u001b[0;34m-\u001b[0m\u001b[0;36m1\u001b[0m\u001b[0;34m]\u001b[0m\u001b[0;34m\u001b[0m\u001b[0m\n\u001b[1;32m   1095\u001b[0m         \u001b[0mname\u001b[0m \u001b[0;34m=\u001b[0m \u001b[0mself\u001b[0m\u001b[0;34m.\u001b[0m\u001b[0mreadline\u001b[0m\u001b[0;34m(\u001b[0m\u001b[0;34m)\u001b[0m\u001b[0;34m[\u001b[0m\u001b[0;34m:\u001b[0m\u001b[0;34m-\u001b[0m\u001b[0;36m1\u001b[0m\u001b[0;34m]\u001b[0m\u001b[0;34m\u001b[0m\u001b[0m\n\u001b[0;32m-> 1096\u001b[0;31m         \u001b[0mklass\u001b[0m \u001b[0;34m=\u001b[0m \u001b[0mself\u001b[0m\u001b[0;34m.\u001b[0m\u001b[0mfind_class\u001b[0m\u001b[0;34m(\u001b[0m\u001b[0mmodule\u001b[0m\u001b[0;34m,\u001b[0m \u001b[0mname\u001b[0m\u001b[0;34m)\u001b[0m\u001b[0;34m\u001b[0m\u001b[0m\n\u001b[0m\u001b[1;32m   1097\u001b[0m         \u001b[0mself\u001b[0m\u001b[0;34m.\u001b[0m\u001b[0mappend\u001b[0m\u001b[0;34m(\u001b[0m\u001b[0mklass\u001b[0m\u001b[0;34m)\u001b[0m\u001b[0;34m\u001b[0m\u001b[0m\n\u001b[1;32m   1098\u001b[0m     \u001b[0mdispatch\u001b[0m\u001b[0;34m[\u001b[0m\u001b[0mGLOBAL\u001b[0m\u001b[0;34m]\u001b[0m \u001b[0;34m=\u001b[0m \u001b[0mload_global\u001b[0m\u001b[0;34m\u001b[0m\u001b[0m\n",
      "\u001b[0;32m/usr/lib/python2.7/pickle.pyc\u001b[0m in \u001b[0;36mfind_class\u001b[0;34m(self, module, name)\u001b[0m\n\u001b[1;32m   1128\u001b[0m     \u001b[0;32mdef\u001b[0m \u001b[0mfind_class\u001b[0m\u001b[0;34m(\u001b[0m\u001b[0mself\u001b[0m\u001b[0;34m,\u001b[0m \u001b[0mmodule\u001b[0m\u001b[0;34m,\u001b[0m \u001b[0mname\u001b[0m\u001b[0;34m)\u001b[0m\u001b[0;34m:\u001b[0m\u001b[0;34m\u001b[0m\u001b[0m\n\u001b[1;32m   1129\u001b[0m         \u001b[0;31m# Subclasses may override this\u001b[0m\u001b[0;34m\u001b[0m\u001b[0;34m\u001b[0m\u001b[0m\n\u001b[0;32m-> 1130\u001b[0;31m         \u001b[0m__import__\u001b[0m\u001b[0;34m(\u001b[0m\u001b[0mmodule\u001b[0m\u001b[0;34m)\u001b[0m\u001b[0;34m\u001b[0m\u001b[0m\n\u001b[0m\u001b[1;32m   1131\u001b[0m         \u001b[0mmod\u001b[0m \u001b[0;34m=\u001b[0m \u001b[0msys\u001b[0m\u001b[0;34m.\u001b[0m\u001b[0mmodules\u001b[0m\u001b[0;34m[\u001b[0m\u001b[0mmodule\u001b[0m\u001b[0;34m]\u001b[0m\u001b[0;34m\u001b[0m\u001b[0m\n\u001b[1;32m   1132\u001b[0m         \u001b[0mklass\u001b[0m \u001b[0;34m=\u001b[0m \u001b[0mgetattr\u001b[0m\u001b[0;34m(\u001b[0m\u001b[0mmod\u001b[0m\u001b[0;34m,\u001b[0m \u001b[0mname\u001b[0m\u001b[0;34m)\u001b[0m\u001b[0;34m\u001b[0m\u001b[0m\n",
      "\u001b[0;31mImportError\u001b[0m: No module named indexes.base"
     ]
    }
   ],
   "source": [
    "#Carregar dados \n",
    "with open('../Sequencias/DadosTreinoFeaturizados', 'rb') as fp:\n",
    "        DadosTreinoFeaturizados = pickle.load(fp)\n",
    "with open('../Sequencias/DadosTesteFeaturizados', 'rb') as fp:\n",
    "        DadosTesteFeaturizados = pickle.load(fp)"
   ]
  },
  {
   "cell_type": "code",
   "execution_count": 12,
   "metadata": {},
   "outputs": [
    {
     "data": {
      "text/plain": [
       "(1600, 501)"
      ]
     },
     "execution_count": 12,
     "metadata": {},
     "output_type": "execute_result"
    }
   ],
   "source": [
    "DadosTreinoFeaturizados.shape"
   ]
  },
  {
   "cell_type": "code",
   "execution_count": 13,
   "metadata": {},
   "outputs": [
    {
     "data": {
      "text/html": [
       "<div>\n",
       "<style scoped>\n",
       "    .dataframe tbody tr th:only-of-type {\n",
       "        vertical-align: middle;\n",
       "    }\n",
       "\n",
       "    .dataframe tbody tr th {\n",
       "        vertical-align: top;\n",
       "    }\n",
       "\n",
       "    .dataframe thead th {\n",
       "        text-align: right;\n",
       "    }\n",
       "</style>\n",
       "<table border=\"1\" class=\"dataframe\">\n",
       "  <thead>\n",
       "    <tr style=\"text-align: right;\">\n",
       "      <th></th>\n",
       "      <th>_PolarityD1001</th>\n",
       "      <th>_SecondaryStrD1001</th>\n",
       "      <th>_NormalizedVDWVD1001</th>\n",
       "      <th>MoreauBrotoAuto_FreeEnergy19</th>\n",
       "      <th>QP</th>\n",
       "      <th>_HydrophobicityD2001</th>\n",
       "      <th>GD</th>\n",
       "      <th>IT</th>\n",
       "      <th>NAA</th>\n",
       "      <th>TV</th>\n",
       "      <th>...</th>\n",
       "      <th>_PolarizabilityD3025</th>\n",
       "      <th>_PolarityD3075</th>\n",
       "      <th>_PolarityD3025</th>\n",
       "      <th>_ChargeD1050</th>\n",
       "      <th>_ChargeD1075</th>\n",
       "      <th>_ChargeD1025</th>\n",
       "      <th>_PolarityD3001</th>\n",
       "      <th>_ChargeD1100</th>\n",
       "      <th>_ChargeD1001</th>\n",
       "      <th>class</th>\n",
       "    </tr>\n",
       "  </thead>\n",
       "  <tbody>\n",
       "    <tr>\n",
       "      <th>0</th>\n",
       "      <td>25.0</td>\n",
       "      <td>5.0</td>\n",
       "      <td>5.0</td>\n",
       "      <td>0.521</td>\n",
       "      <td>0.0</td>\n",
       "      <td>5.0</td>\n",
       "      <td>0.00</td>\n",
       "      <td>0.0</td>\n",
       "      <td>0.0</td>\n",
       "      <td>0.0</td>\n",
       "      <td>...</td>\n",
       "      <td>60.0</td>\n",
       "      <td>60.0</td>\n",
       "      <td>60.0</td>\n",
       "      <td>60.0</td>\n",
       "      <td>60.0</td>\n",
       "      <td>60.0</td>\n",
       "      <td>60.0</td>\n",
       "      <td>60.0</td>\n",
       "      <td>60.0</td>\n",
       "      <td>-1.0</td>\n",
       "    </tr>\n",
       "    <tr>\n",
       "      <th>1</th>\n",
       "      <td>15.0</td>\n",
       "      <td>5.0</td>\n",
       "      <td>5.0</td>\n",
       "      <td>0.006</td>\n",
       "      <td>0.0</td>\n",
       "      <td>5.0</td>\n",
       "      <td>0.00</td>\n",
       "      <td>0.0</td>\n",
       "      <td>0.0</td>\n",
       "      <td>0.0</td>\n",
       "      <td>...</td>\n",
       "      <td>15.0</td>\n",
       "      <td>50.0</td>\n",
       "      <td>80.0</td>\n",
       "      <td>50.0</td>\n",
       "      <td>50.0</td>\n",
       "      <td>50.0</td>\n",
       "      <td>50.0</td>\n",
       "      <td>50.0</td>\n",
       "      <td>50.0</td>\n",
       "      <td>-1.0</td>\n",
       "    </tr>\n",
       "    <tr>\n",
       "      <th>2</th>\n",
       "      <td>10.0</td>\n",
       "      <td>5.0</td>\n",
       "      <td>5.0</td>\n",
       "      <td>-0.129</td>\n",
       "      <td>0.0</td>\n",
       "      <td>5.0</td>\n",
       "      <td>0.00</td>\n",
       "      <td>0.0</td>\n",
       "      <td>0.0</td>\n",
       "      <td>0.0</td>\n",
       "      <td>...</td>\n",
       "      <td>10.0</td>\n",
       "      <td>80.0</td>\n",
       "      <td>100.0</td>\n",
       "      <td>15.0</td>\n",
       "      <td>80.0</td>\n",
       "      <td>100.0</td>\n",
       "      <td>15.0</td>\n",
       "      <td>100.0</td>\n",
       "      <td>15.0</td>\n",
       "      <td>-1.0</td>\n",
       "    </tr>\n",
       "    <tr>\n",
       "      <th>3</th>\n",
       "      <td>20.0</td>\n",
       "      <td>5.0</td>\n",
       "      <td>5.0</td>\n",
       "      <td>0.305</td>\n",
       "      <td>0.0</td>\n",
       "      <td>5.0</td>\n",
       "      <td>0.00</td>\n",
       "      <td>0.0</td>\n",
       "      <td>0.0</td>\n",
       "      <td>0.0</td>\n",
       "      <td>...</td>\n",
       "      <td>10.0</td>\n",
       "      <td>75.0</td>\n",
       "      <td>10.0</td>\n",
       "      <td>25.0</td>\n",
       "      <td>85.0</td>\n",
       "      <td>10.0</td>\n",
       "      <td>10.0</td>\n",
       "      <td>100.0</td>\n",
       "      <td>10.0</td>\n",
       "      <td>-1.0</td>\n",
       "    </tr>\n",
       "    <tr>\n",
       "      <th>4</th>\n",
       "      <td>20.0</td>\n",
       "      <td>5.0</td>\n",
       "      <td>5.0</td>\n",
       "      <td>0.521</td>\n",
       "      <td>0.0</td>\n",
       "      <td>5.0</td>\n",
       "      <td>10.53</td>\n",
       "      <td>0.0</td>\n",
       "      <td>0.0</td>\n",
       "      <td>0.0</td>\n",
       "      <td>...</td>\n",
       "      <td>100.0</td>\n",
       "      <td>0.0</td>\n",
       "      <td>0.0</td>\n",
       "      <td>0.0</td>\n",
       "      <td>0.0</td>\n",
       "      <td>0.0</td>\n",
       "      <td>0.0</td>\n",
       "      <td>0.0</td>\n",
       "      <td>0.0</td>\n",
       "      <td>1.0</td>\n",
       "    </tr>\n",
       "  </tbody>\n",
       "</table>\n",
       "<p>5 rows × 501 columns</p>\n",
       "</div>"
      ],
      "text/plain": [
       "   _PolarityD1001  _SecondaryStrD1001  _NormalizedVDWVD1001  \\\n",
       "0            25.0                 5.0                   5.0   \n",
       "1            15.0                 5.0                   5.0   \n",
       "2            10.0                 5.0                   5.0   \n",
       "3            20.0                 5.0                   5.0   \n",
       "4            20.0                 5.0                   5.0   \n",
       "\n",
       "   MoreauBrotoAuto_FreeEnergy19   QP  _HydrophobicityD2001     GD   IT  NAA  \\\n",
       "0                         0.521  0.0                   5.0   0.00  0.0  0.0   \n",
       "1                         0.006  0.0                   5.0   0.00  0.0  0.0   \n",
       "2                        -0.129  0.0                   5.0   0.00  0.0  0.0   \n",
       "3                         0.305  0.0                   5.0   0.00  0.0  0.0   \n",
       "4                         0.521  0.0                   5.0  10.53  0.0  0.0   \n",
       "\n",
       "    TV  ...    _PolarizabilityD3025  _PolarityD3075  _PolarityD3025  \\\n",
       "0  0.0  ...                    60.0            60.0            60.0   \n",
       "1  0.0  ...                    15.0            50.0            80.0   \n",
       "2  0.0  ...                    10.0            80.0           100.0   \n",
       "3  0.0  ...                    10.0            75.0            10.0   \n",
       "4  0.0  ...                   100.0             0.0             0.0   \n",
       "\n",
       "   _ChargeD1050  _ChargeD1075  _ChargeD1025  _PolarityD3001  _ChargeD1100  \\\n",
       "0          60.0          60.0          60.0            60.0          60.0   \n",
       "1          50.0          50.0          50.0            50.0          50.0   \n",
       "2          15.0          80.0         100.0            15.0         100.0   \n",
       "3          25.0          85.0          10.0            10.0         100.0   \n",
       "4           0.0           0.0           0.0             0.0           0.0   \n",
       "\n",
       "   _ChargeD1001  class  \n",
       "0          60.0   -1.0  \n",
       "1          50.0   -1.0  \n",
       "2          15.0   -1.0  \n",
       "3          10.0   -1.0  \n",
       "4           0.0    1.0  \n",
       "\n",
       "[5 rows x 501 columns]"
      ]
     },
     "execution_count": 13,
     "metadata": {},
     "output_type": "execute_result"
    }
   ],
   "source": [
    "DadosTreinoFeaturizados.head()"
   ]
  },
  {
   "cell_type": "code",
   "execution_count": 14,
   "metadata": {},
   "outputs": [
    {
     "data": {
      "text/plain": [
       "(400, 501)"
      ]
     },
     "execution_count": 14,
     "metadata": {},
     "output_type": "execute_result"
    }
   ],
   "source": [
    "DadosTesteFeaturizados.shape"
   ]
  },
  {
   "cell_type": "code",
   "execution_count": 15,
   "metadata": {},
   "outputs": [
    {
     "data": {
      "text/html": [
       "<div>\n",
       "<style scoped>\n",
       "    .dataframe tbody tr th:only-of-type {\n",
       "        vertical-align: middle;\n",
       "    }\n",
       "\n",
       "    .dataframe tbody tr th {\n",
       "        vertical-align: top;\n",
       "    }\n",
       "\n",
       "    .dataframe thead th {\n",
       "        text-align: right;\n",
       "    }\n",
       "</style>\n",
       "<table border=\"1\" class=\"dataframe\">\n",
       "  <thead>\n",
       "    <tr style=\"text-align: right;\">\n",
       "      <th></th>\n",
       "      <th>_PolarityD1001</th>\n",
       "      <th>_SecondaryStrD1001</th>\n",
       "      <th>_NormalizedVDWVD1001</th>\n",
       "      <th>MoreauBrotoAuto_FreeEnergy19</th>\n",
       "      <th>QP</th>\n",
       "      <th>_HydrophobicityD2001</th>\n",
       "      <th>GD</th>\n",
       "      <th>IT</th>\n",
       "      <th>NAA</th>\n",
       "      <th>TV</th>\n",
       "      <th>...</th>\n",
       "      <th>_PolarizabilityD3025</th>\n",
       "      <th>_PolarityD3075</th>\n",
       "      <th>_PolarityD3025</th>\n",
       "      <th>_ChargeD1050</th>\n",
       "      <th>_ChargeD1075</th>\n",
       "      <th>_ChargeD1025</th>\n",
       "      <th>_PolarityD3001</th>\n",
       "      <th>_ChargeD1100</th>\n",
       "      <th>_ChargeD1001</th>\n",
       "      <th>class</th>\n",
       "    </tr>\n",
       "  </thead>\n",
       "  <tbody>\n",
       "    <tr>\n",
       "      <th>0</th>\n",
       "      <td>20.0</td>\n",
       "      <td>5.0</td>\n",
       "      <td>5.0</td>\n",
       "      <td>0.006</td>\n",
       "      <td>5.26</td>\n",
       "      <td>5.0</td>\n",
       "      <td>0.0</td>\n",
       "      <td>0.0</td>\n",
       "      <td>0.0</td>\n",
       "      <td>0.0</td>\n",
       "      <td>...</td>\n",
       "      <td>95.0</td>\n",
       "      <td>0.0</td>\n",
       "      <td>0.0</td>\n",
       "      <td>0.0</td>\n",
       "      <td>0.0</td>\n",
       "      <td>0.0</td>\n",
       "      <td>0.0</td>\n",
       "      <td>0.0</td>\n",
       "      <td>0.0</td>\n",
       "      <td>-1.0</td>\n",
       "    </tr>\n",
       "    <tr>\n",
       "      <th>1</th>\n",
       "      <td>20.0</td>\n",
       "      <td>5.0</td>\n",
       "      <td>5.0</td>\n",
       "      <td>0.305</td>\n",
       "      <td>0.00</td>\n",
       "      <td>5.0</td>\n",
       "      <td>0.0</td>\n",
       "      <td>0.0</td>\n",
       "      <td>0.0</td>\n",
       "      <td>0.0</td>\n",
       "      <td>...</td>\n",
       "      <td>15.0</td>\n",
       "      <td>50.0</td>\n",
       "      <td>65.0</td>\n",
       "      <td>15.0</td>\n",
       "      <td>50.0</td>\n",
       "      <td>65.0</td>\n",
       "      <td>15.0</td>\n",
       "      <td>65.0</td>\n",
       "      <td>15.0</td>\n",
       "      <td>1.0</td>\n",
       "    </tr>\n",
       "    <tr>\n",
       "      <th>2</th>\n",
       "      <td>15.0</td>\n",
       "      <td>5.0</td>\n",
       "      <td>5.0</td>\n",
       "      <td>0.520</td>\n",
       "      <td>0.00</td>\n",
       "      <td>5.0</td>\n",
       "      <td>0.0</td>\n",
       "      <td>0.0</td>\n",
       "      <td>0.0</td>\n",
       "      <td>0.0</td>\n",
       "      <td>...</td>\n",
       "      <td>20.0</td>\n",
       "      <td>20.0</td>\n",
       "      <td>20.0</td>\n",
       "      <td>20.0</td>\n",
       "      <td>20.0</td>\n",
       "      <td>20.0</td>\n",
       "      <td>20.0</td>\n",
       "      <td>20.0</td>\n",
       "      <td>20.0</td>\n",
       "      <td>-1.0</td>\n",
       "    </tr>\n",
       "    <tr>\n",
       "      <th>3</th>\n",
       "      <td>65.0</td>\n",
       "      <td>5.0</td>\n",
       "      <td>5.0</td>\n",
       "      <td>0.305</td>\n",
       "      <td>0.00</td>\n",
       "      <td>5.0</td>\n",
       "      <td>0.0</td>\n",
       "      <td>0.0</td>\n",
       "      <td>0.0</td>\n",
       "      <td>0.0</td>\n",
       "      <td>...</td>\n",
       "      <td>85.0</td>\n",
       "      <td>40.0</td>\n",
       "      <td>85.0</td>\n",
       "      <td>40.0</td>\n",
       "      <td>40.0</td>\n",
       "      <td>85.0</td>\n",
       "      <td>40.0</td>\n",
       "      <td>85.0</td>\n",
       "      <td>40.0</td>\n",
       "      <td>-1.0</td>\n",
       "    </tr>\n",
       "    <tr>\n",
       "      <th>4</th>\n",
       "      <td>10.0</td>\n",
       "      <td>5.0</td>\n",
       "      <td>5.0</td>\n",
       "      <td>-0.133</td>\n",
       "      <td>0.00</td>\n",
       "      <td>5.0</td>\n",
       "      <td>0.0</td>\n",
       "      <td>0.0</td>\n",
       "      <td>0.0</td>\n",
       "      <td>0.0</td>\n",
       "      <td>...</td>\n",
       "      <td>0.0</td>\n",
       "      <td>0.0</td>\n",
       "      <td>0.0</td>\n",
       "      <td>0.0</td>\n",
       "      <td>0.0</td>\n",
       "      <td>0.0</td>\n",
       "      <td>0.0</td>\n",
       "      <td>0.0</td>\n",
       "      <td>0.0</td>\n",
       "      <td>-1.0</td>\n",
       "    </tr>\n",
       "  </tbody>\n",
       "</table>\n",
       "<p>5 rows × 501 columns</p>\n",
       "</div>"
      ],
      "text/plain": [
       "   _PolarityD1001  _SecondaryStrD1001  _NormalizedVDWVD1001  \\\n",
       "0            20.0                 5.0                   5.0   \n",
       "1            20.0                 5.0                   5.0   \n",
       "2            15.0                 5.0                   5.0   \n",
       "3            65.0                 5.0                   5.0   \n",
       "4            10.0                 5.0                   5.0   \n",
       "\n",
       "   MoreauBrotoAuto_FreeEnergy19    QP  _HydrophobicityD2001   GD   IT  NAA  \\\n",
       "0                         0.006  5.26                   5.0  0.0  0.0  0.0   \n",
       "1                         0.305  0.00                   5.0  0.0  0.0  0.0   \n",
       "2                         0.520  0.00                   5.0  0.0  0.0  0.0   \n",
       "3                         0.305  0.00                   5.0  0.0  0.0  0.0   \n",
       "4                        -0.133  0.00                   5.0  0.0  0.0  0.0   \n",
       "\n",
       "    TV  ...    _PolarizabilityD3025  _PolarityD3075  _PolarityD3025  \\\n",
       "0  0.0  ...                    95.0             0.0             0.0   \n",
       "1  0.0  ...                    15.0            50.0            65.0   \n",
       "2  0.0  ...                    20.0            20.0            20.0   \n",
       "3  0.0  ...                    85.0            40.0            85.0   \n",
       "4  0.0  ...                     0.0             0.0             0.0   \n",
       "\n",
       "   _ChargeD1050  _ChargeD1075  _ChargeD1025  _PolarityD3001  _ChargeD1100  \\\n",
       "0           0.0           0.0           0.0             0.0           0.0   \n",
       "1          15.0          50.0          65.0            15.0          65.0   \n",
       "2          20.0          20.0          20.0            20.0          20.0   \n",
       "3          40.0          40.0          85.0            40.0          85.0   \n",
       "4           0.0           0.0           0.0             0.0           0.0   \n",
       "\n",
       "   _ChargeD1001  class  \n",
       "0           0.0   -1.0  \n",
       "1          15.0    1.0  \n",
       "2          20.0   -1.0  \n",
       "3          40.0   -1.0  \n",
       "4           0.0   -1.0  \n",
       "\n",
       "[5 rows x 501 columns]"
      ]
     },
     "execution_count": 15,
     "metadata": {},
     "output_type": "execute_result"
    }
   ],
   "source": [
    "DadosTesteFeaturizados.head()"
   ]
  },
  {
   "cell_type": "markdown",
   "metadata": {},
   "source": [
    "# Run:"
   ]
  },
  {
   "cell_type": "code",
   "execution_count": 16,
   "metadata": {},
   "outputs": [],
   "source": [
    "y_treino = np.array(DadosTreinoFeaturizados['class'])           \n",
    "y_teste = np.array(DadosTesteFeaturizados['class'])                         \n",
    "\n",
    "X_treino = DadosTreinoFeaturizados.drop(['class'], 1)\n",
    "X_treino = np.array(DadosTreinoFeaturizados[DadosTreinoFeaturizados.columns.values[0:MelhorKFeatures]])\n",
    "X_treino_efetivo = np.copy(X_treino)\n",
    "\n",
    "X_teste = DadosTesteFeaturizados.drop(['class'], 1)\n",
    "X_teste = np.array(DadosTesteFeaturizados[DadosTesteFeaturizados.columns.values[0:MelhorKFeatures]])"
   ]
  },
  {
   "cell_type": "code",
   "execution_count": 17,
   "metadata": {},
   "outputs": [
    {
     "data": {
      "text/plain": [
       "(1600,)"
      ]
     },
     "execution_count": 17,
     "metadata": {},
     "output_type": "execute_result"
    }
   ],
   "source": [
    "y_treino.shape"
   ]
  },
  {
   "cell_type": "code",
   "execution_count": 18,
   "metadata": {},
   "outputs": [
    {
     "data": {
      "text/plain": [
       "(400,)"
      ]
     },
     "execution_count": 18,
     "metadata": {},
     "output_type": "execute_result"
    }
   ],
   "source": [
    "y_teste.shape"
   ]
  },
  {
   "cell_type": "code",
   "execution_count": 19,
   "metadata": {},
   "outputs": [
    {
     "data": {
      "text/plain": [
       "(1600, 300)"
      ]
     },
     "execution_count": 19,
     "metadata": {},
     "output_type": "execute_result"
    }
   ],
   "source": [
    "X_treino.shape"
   ]
  },
  {
   "cell_type": "code",
   "execution_count": 20,
   "metadata": {},
   "outputs": [
    {
     "data": {
      "text/plain": [
       "(400, 300)"
      ]
     },
     "execution_count": 20,
     "metadata": {},
     "output_type": "execute_result"
    }
   ],
   "source": [
    "X_teste.shape"
   ]
  },
  {
   "cell_type": "code",
   "execution_count": 21,
   "metadata": {},
   "outputs": [
    {
     "name": "stdout",
     "output_type": "stream",
     "text": [
      "('Teste de verificacao (Somatorio do quadrado dos pesos): ', 1.0)\n"
     ]
    }
   ],
   "source": [
    "normalizar = True #Normalização e featurização\n",
    "\n",
    "if normalizar: scaler = StandardScaler()\n",
    "\n",
    "#Treino\n",
    "if normalizar: X_treino = scaler.fit(X_treino).transform(X_treino)\n",
    "s, epslon = svd_epslon(X=X_treino, y=y_treino, kgamma=kgamma)\n",
    "\n",
    "#Treino efetivo\n",
    "for i in range(X_treino_efetivo.shape[0]):\n",
    "    X_treino_efetivo[i,:] = np.dot(epslon, X_treino_efetivo[i,:])\n",
    "if normalizar: X_treino_efetivo = scaler.fit(X_treino_efetivo).transform(X_treino_efetivo)\n",
    "\n",
    "#Teste\n",
    "for i in range(X_teste.shape[0]):\n",
    "    X_teste[i,:] = np.dot(epslon, X_teste[i,:])\n",
    "if normalizar: X_teste = scaler.transform(X_teste) #O fit é usando as médias e variâncias\n",
    "#do conjunto treino efetivo."
   ]
  },
  {
   "cell_type": "code",
   "execution_count": 22,
   "metadata": {},
   "outputs": [
    {
     "name": "stdout",
     "output_type": "stream",
     "text": [
      "\n",
      " Parametros SVM: \n",
      "('gammas: ', array([0.0006 , 0.00075, 0.0008 , 0.00085, 0.0009 , 0.00095, 0.001  ,\n",
      "       0.00105, 0.0011 , 0.00115, 0.0012 , 0.00125, 0.0013 , 0.00135,\n",
      "       0.0014 , 0.00145, 0.0015 , 0.00155, 0.0016 , 0.00165, 0.0017 ]))\n",
      "('custos: ', [3.0, 4.0, 4.5, 5.0, 5.5, 6.0, 6.5, 6.75, 7.0, 7.25, 7.5, 7.75, 8.0, 8.5, 9.0, 9.5, 10.0, 10.5, 11.0, 11.5, 12.0, 12.5, 13.0, 13.5, 14.0, 14.5, 15.0, 16.0, 18.0, 20.0, 25.0, 30.0])\n",
      "Fitting 5 folds for each of 672 candidates, totalling 3360 fits\n"
     ]
    },
    {
     "name": "stderr",
     "output_type": "stream",
     "text": [
      "[Parallel(n_jobs=-1)]: Done  42 tasks      | elapsed:   36.5s\n",
      "[Parallel(n_jobs=-1)]: Done 192 tasks      | elapsed:  2.7min\n",
      "[Parallel(n_jobs=-1)]: Done 442 tasks      | elapsed:  6.5min\n",
      "[Parallel(n_jobs=-1)]: Done 792 tasks      | elapsed: 11.3min\n",
      "[Parallel(n_jobs=-1)]: Done 1242 tasks      | elapsed: 17.5min\n",
      "[Parallel(n_jobs=-1)]: Done 1792 tasks      | elapsed: 25.0min\n",
      "[Parallel(n_jobs=-1)]: Done 2442 tasks      | elapsed: 34.0min\n",
      "[Parallel(n_jobs=-1)]: Done 3192 tasks      | elapsed: 44.3min\n",
      "[Parallel(n_jobs=-1)]: Done 3360 out of 3360 | elapsed: 46.8min finished\n"
     ]
    },
    {
     "name": "stdout",
     "output_type": "stream",
     "text": [
      "Melhores parâmetros:\n",
      "SVC(C=3.0, cache_size=200, class_weight=None, coef0=0.0,\n",
      "  decision_function_shape='ovr', degree=3, gamma=0.0006, kernel='rbf',\n",
      "  max_iter=-1, probability=True, random_state=None, shrinking=True,\n",
      "  tol=0.001, verbose=False)\n"
     ]
    }
   ],
   "source": [
    "#SVM \n",
    "\n",
    "custos = np.array((3.0, 4.0, 4.5, 5.0, 5.5, 6.0, 6.5, 6.75, 7.0, 7.25, 7.5, 7.75, 8.0, \n",
    "                   8.5, 9.0, 9.5, 10, 10.5, 11, 11.5, 12, 12.5, 13, 13.5, 14, 14.5, 15, \n",
    "                   16, 18, 20, 25, 30))\n",
    "custos = custos.tolist()\n",
    "\n",
    "gammas = np.array((0.0006, 0.00075, 0.0008, 0.00085, 0.0009, 0.00095, 0.001, 0.00105, 0.0011, \n",
    "            0.00115, 0.0012, 0.00125, 0.0013, 0.00135, 0.0014, 0.00145, 0.0015, \n",
    "            0.00155, 0.0016, 0.00165, 0.0017))\n",
    "#gammas = gammas.tolist()\n",
    "\n",
    "print(\"\\n Parametros SVM: \")\n",
    "print(\"gammas: \", gammas)\n",
    "print(\"custos: \", custos)\n",
    "\n",
    "melhor_amplo, melhor_amplo_acuracias = SVM_T(X=X_treino_efetivo, y=y_treino, custos=custos, \n",
    "                     gammas=gammas, kverbose=kverbose, kcv=kcv, kjobs=kjobs)\n",
    "\n",
    "print(\"Melhores parâmetros:\")\n",
    "print(melhor_amplo)"
   ]
  },
  {
   "cell_type": "code",
   "execution_count": 23,
   "metadata": {},
   "outputs": [
    {
     "name": "stdout",
     "output_type": "stream",
     "text": [
      "\n",
      " SVM amplo - Treino\n",
      "Matriz confusão:\n",
      "[[620 180]\n",
      " [290 510]]\n",
      "Medidas:\n",
      "             precision    recall  f1-score   support\n",
      "\n",
      "       -1.0       0.68      0.78      0.73       800\n",
      "        1.0       0.74      0.64      0.68       800\n",
      "\n",
      "avg / total       0.71      0.71      0.70      1600\n",
      "\n",
      "MCC\n",
      "0.4164555923406265\n",
      "ROC-AUC\n",
      "0.70625\n"
     ]
    }
   ],
   "source": [
    "print(\"\\n SVM amplo - Treino\")\n",
    "results_amplo_train, medidas_amplo_train, mcc_treino, ROC_AUC_train = info(X=X_treino_efetivo, \n",
    "                                                y=y_treino, modelo=melhor_amplo)"
   ]
  },
  {
   "cell_type": "code",
   "execution_count": 24,
   "metadata": {
    "scrolled": true
   },
   "outputs": [
    {
     "data": {
      "text/plain": [
       "(0.00072, 0.001751)"
      ]
     },
     "execution_count": 24,
     "metadata": {},
     "output_type": "execute_result"
    },
    {
     "data": {
      "image/png": "[encoded data removed]",
      "text/plain": [
       "<Figure size 432x288 with 2 Axes>"
      ]
     },
     "metadata": {},
     "output_type": "display_data"
    }
   ],
   "source": [
    "modelo_acuracias = melhor_amplo_acuracias\n",
    "plotcustos = []\n",
    "plotgammas = []\n",
    "plotaccs = []\n",
    "for i in range(len(modelo_acuracias)):\n",
    "    temp = modelo_acuracias[i][0]\n",
    "    plotcustos.append(temp['C'])\n",
    "    plotgammas.append(temp['gamma'])\n",
    "    plotaccs.append(modelo_acuracias[i][1])\n",
    "\n",
    "plt.scatter(plotgammas, plotcustos, edgecolors='none', c=plotaccs)\n",
    "plt.colorbar()\n",
    "plt.title('Comportamento das acuracias')\n",
    "plt.xlabel(\"Gammas\")\n",
    "plt.ylabel(\"Custos\")\n",
    "plt.xlim(0.00072, 0.001751)"
   ]
  },
  {
   "cell_type": "code",
   "execution_count": 25,
   "metadata": {},
   "outputs": [
    {
     "name": "stdout",
     "output_type": "stream",
     "text": [
      "\n",
      " SVM amplo - Teste\n",
      "Matriz confusão:\n",
      "[[131  69]\n",
      " [108  92]]\n",
      "Medidas:\n",
      "             precision    recall  f1-score   support\n",
      "\n",
      "       -1.0       0.55      0.66      0.60       200\n",
      "        1.0       0.57      0.46      0.51       200\n",
      "\n",
      "avg / total       0.56      0.56      0.55       400\n",
      "\n",
      "MCC\n",
      "0.11725083589310992\n",
      "ROC-AUC\n",
      "0.5575\n"
     ]
    }
   ],
   "source": [
    "print(\"\\n SVM amplo - Teste\")\n",
    "#print(info(X=X_test, y=y_test, modelo=melhor_amplo))\n",
    "results_amplo_test, medidas_amplo_test, mcc_teste, ROC_AUC_test = info(X=X_teste, y=y_teste, \n",
    "                                                                 modelo=melhor_amplo)"
   ]
  },
  {
   "cell_type": "markdown",
   "metadata": {},
   "source": [
    "# Saves"
   ]
  },
  {
   "cell_type": "code",
   "execution_count": 26,
   "metadata": {},
   "outputs": [],
   "source": [
    "#Melhor modelo\n",
    "if False: \n",
    "    \n",
    "    with open(\"melhor_modelo\", \"wb\") as fp:   #Pickling\n",
    "        pickle.dump(melhor_amplo, fp)  "
   ]
  }
 ],
 "metadata": {
  "kernelspec": {
   "display_name": "Python 2",
   "language": "python",
   "name": "python2"
  },
  "language_info": {
   "codemirror_mode": {
    "name": "ipython",
    "version": 2
   },
   "file_extension": ".py",
   "mimetype": "text/x-python",
   "name": "python",
   "nbconvert_exporter": "python",
   "pygments_lexer": "ipython2",
   "version": "2.7.12"
  }
 },
 "nbformat": 4,
 "nbformat_minor": 2
}

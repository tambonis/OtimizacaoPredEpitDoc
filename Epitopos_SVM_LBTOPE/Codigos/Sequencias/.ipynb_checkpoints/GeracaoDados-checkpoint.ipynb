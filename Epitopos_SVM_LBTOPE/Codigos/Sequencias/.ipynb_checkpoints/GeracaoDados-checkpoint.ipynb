{
 "cells": [
  {
   "cell_type": "code",
   "execution_count": 1,
   "metadata": {},
   "outputs": [],
   "source": [
    "##############################################\n",
    "#Geração de dados.\n",
    "#Tiago Tambonis\n",
    "#2018/2019\n",
    "##############################################"
   ]
  },
  {
   "cell_type": "code",
   "execution_count": 2,
   "metadata": {},
   "outputs": [],
   "source": [
    "from Bio import SeqIO #Para leitura das sequências\n",
    "import numpy as np\n",
    "from pydpi.pypro import PyPro\n",
    "from pydpi.pypro import CTD\n",
    "import pandas as pd\n",
    "import pickle\n",
    "\n",
    "protein = PyPro() #Global\n",
    "kmaxlag = 19"
   ]
  },
  {
   "cell_type": "markdown",
   "metadata": {},
   "source": [
    "# Positivas"
   ]
  },
  {
   "cell_type": "code",
   "execution_count": 3,
   "metadata": {},
   "outputs": [],
   "source": [
    "#Leitura das sequências FASTA\n",
    "\n",
    "seqs = []\n",
    "for record in SeqIO.parse(\"LBtope_Fixed_non_redundant_Positive_pattern.txt.fasta\", \"fasta\"):\n",
    "    #print(record.seq)\n",
    "    seqs.append(record.seq)\n",
    "#seqs = seqs[0:2000]"
   ]
  },
  {
   "cell_type": "code",
   "execution_count": null,
   "metadata": {},
   "outputs": [],
   "source": [
    "def getcaracteristicasDPComp(pep, kseq):\n",
    "    \n",
    "    protein.ReadProteinSequence(pep)\n",
    "    \n",
    "    kDPComp = protein.GetDPComp()\n",
    "    kDPComp = pd.DataFrame(kDPComp.items(), columns=['PepAAComp', kseq])\n",
    "    kDPComp = kDPComp.set_index('PepAAComp')\n",
    "    \n",
    "    return(kDPComp)\n",
    "\n",
    "for i in range(len(seqs)):\n",
    "    \n",
    "    if i==0: DPCompData = getcaracteristicasDPComp(seqs[i], kseq=str(\"Seq\"+str(i+1)))\n",
    "    else: DPCompData = DPCompData.merge(getcaracteristicasDPComp(seqs[i], kseq=str(\"Seq\"+str(i+1))), \n",
    "                            left_on='PepAAComp', right_on='PepAAComp', how='inner')\n",
    "        \n",
    "DPCompData.shape"
   ]
  },
  {
   "cell_type": "code",
   "execution_count": null,
   "metadata": {},
   "outputs": [],
   "source": [
    "if False: \n",
    "    \n",
    "    def getcaracteristicasAAComp(pep, kseq):\n",
    "\n",
    "        protein.ReadProteinSequence(pep)\n",
    "\n",
    "        kAAComp = protein.GetAAComp()\n",
    "        kAAComp = pd.DataFrame(kAAComp.items(), columns=['PepAAComp', kseq])\n",
    "        kAAComp = kAAComp.set_index('PepAAComp')\n",
    "\n",
    "        return(kAAComp)\n",
    "\n",
    "    for i in range(len(seqs)):\n",
    "\n",
    "        if i==0: AACompData = getcaracteristicasAAComp(seqs[i], kseq=str(\"Seq\"+str(i+1)))\n",
    "        else: AACompData = AACompData.merge(getcaracteristicasAAComp(seqs[i], kseq=str(\"Seq\"+str(i+1))), \n",
    "                                left_on='PepAAComp', right_on='PepAAComp', how='inner')\n",
    "\n",
    "    AACompData.shape\n",
    "\n",
    "    def getcaracteristicasMoreauBrotoAuto(pep, kseq):\n",
    "\n",
    "        protein.ReadProteinSequence(pep)\n",
    "\n",
    "        kMoreauBrotoAuto = protein.GetMoreauBrotoAuto()\n",
    "        kMoreauBrotoAuto = pd.DataFrame(kMoreauBrotoAuto.items(), columns=['PepAAComp', kseq])\n",
    "        kMoreauBrotoAuto = kMoreauBrotoAuto.set_index('PepAAComp')\n",
    "\n",
    "        return(kMoreauBrotoAuto)\n",
    "\n",
    "    for i in range(len(seqs)):\n",
    "\n",
    "        if i==0: MoreauBrotoAutoData = getcaracteristicasMoreauBrotoAuto(seqs[i], kseq=str(\"Seq\"+str(i+1)))\n",
    "        else: MoreauBrotoAutoData = MoreauBrotoAutoData.merge(getcaracteristicasMoreauBrotoAuto(seqs[i], kseq=str(\"Seq\"+str(i+1))), \n",
    "                                left_on='PepAAComp', right_on='PepAAComp', how='inner')\n",
    "\n",
    "    MoreauBrotoAutoData.shape\n",
    "\n",
    "    def getcaracteristicasMoranAuto(pep, kseq):\n",
    "\n",
    "        protein.ReadProteinSequence(pep)\n",
    "\n",
    "        kMoranAuto = protein.GetMoranAuto()\n",
    "        kMoranAuto = pd.DataFrame(kMoranAuto.items(), columns=['PepAAComp', kseq])\n",
    "        kMoranAuto = kMoranAuto.set_index('PepAAComp')\n",
    "\n",
    "        return(kMoranAuto)\n",
    "\n",
    "    for i in range(len(seqs)):\n",
    "\n",
    "        if i==0: MoranAutoData = getcaracteristicasMoranAuto(seqs[i], kseq=str(\"Seq\"+str(i+1)))\n",
    "        else: MoranAutoData = MoranAutoData.merge(getcaracteristicasMoranAuto(seqs[i], kseq=str(\"Seq\"+str(i+1))), \n",
    "                                left_on='PepAAComp', right_on='PepAAComp', how='inner')\n",
    "\n",
    "    MoranAutoData.shape\n",
    "\n",
    "    def getcaracteristicasGearyAuto(pep, kseq):\n",
    "\n",
    "        protein.ReadProteinSequence(pep)\n",
    "\n",
    "        kGearyAuto = protein.GetGearyAuto()\n",
    "        kGearyAuto = pd.DataFrame(kGearyAuto.items(), columns=['PepAAComp', kseq])\n",
    "        kGearyAuto = kGearyAuto.set_index('PepAAComp')\n",
    "\n",
    "        return(kGearyAuto)\n",
    "\n",
    "    for i in range(len(seqs)):\n",
    "\n",
    "        if i==0: GearyAutoData = getcaracteristicasGearyAuto(seqs[i], kseq=str(\"Seq\"+str(i+1)))\n",
    "        else: GearyAutoData = GearyAutoData.merge(getcaracteristicasGearyAuto(seqs[i], kseq=str(\"Seq\"+str(i+1))), \n",
    "                                left_on='PepAAComp', right_on='PepAAComp', how='inner')\n",
    "\n",
    "    GearyAutoData.shape\n",
    "\n",
    "    def getcaracteristicasCTD(pep, kseq):\n",
    "\n",
    "        kCTD = CTD.CalculateCTD(str(pep))\n",
    "        kCTD = pd.DataFrame(kCTD.items(), columns=['PepAAComp', kseq])\n",
    "        kCTD = kCTD.set_index('PepAAComp')\n",
    "\n",
    "        return(kCTD)\n",
    "\n",
    "    for i in range(len(seqs)):\n",
    "\n",
    "        if i==0: CTDData = getcaracteristicasCTD(seqs[i], kseq=str(\"Seq\"+str(i+1)))\n",
    "        else: CTDData = CTDData.merge(getcaracteristicasCTD(seqs[i], kseq=str(\"Seq\"+str(i+1))), \n",
    "                                left_on='PepAAComp', right_on='PepAAComp', how='inner')\n",
    "\n",
    "    CTDData.shape\n",
    "\n",
    "    def getcaracteristicasSOCN(pep, kseq, kmaxlag=kmaxlag):\n",
    "\n",
    "        protein.ReadProteinSequence(pep)\n",
    "\n",
    "        kSOCN = protein.GetSOCN(maxlag=kmaxlag)\n",
    "        kSOCN = pd.DataFrame(kSOCN.items(), columns=['PepAAComp', kseq])\n",
    "        kSOCN = kSOCN.set_index('PepAAComp')\n",
    "\n",
    "        return(kSOCN)\n",
    "\n",
    "    for i in range(len(seqs)):\n",
    "\n",
    "        if i==0: SOCNData = getcaracteristicasSOCN(seqs[i], kseq=str(\"Seq\"+str(i+1)))\n",
    "        else: SOCNData = SOCNData.merge(getcaracteristicasSOCN(seqs[i], kseq=str(\"Seq\"+str(i+1))), \n",
    "                                left_on='PepAAComp', right_on='PepAAComp', how='inner')\n",
    "\n",
    "    SOCNData.shape\n",
    "\n",
    "    def getcaracteristicasQSO(pep, kseq, kmaxlag=kmaxlag):\n",
    "\n",
    "        protein.ReadProteinSequence(pep)\n",
    "\n",
    "        kQSO = protein.GetQSO(maxlag=kmaxlag)\n",
    "        kQSO = pd.DataFrame(kQSO.items(), columns=['PepAAComp', kseq])\n",
    "        kQSO = kQSO.set_index('PepAAComp')\n",
    "\n",
    "        return(kQSO)\n",
    "\n",
    "    for i in range(len(seqs)):\n",
    "\n",
    "        if i==0: QSOData = getcaracteristicasQSO(seqs[i], kseq=str(\"Seq\"+str(i+1)))\n",
    "        else: QSOData = QSOData.merge(getcaracteristicasQSO(seqs[i], kseq=str(\"Seq\"+str(i+1))), \n",
    "                                left_on='PepAAComp', right_on='PepAAComp', how='inner')\n",
    "\n",
    "    QSOData.shape"
   ]
  },
  {
   "cell_type": "code",
   "execution_count": null,
   "metadata": {},
   "outputs": [],
   "source": [
    "#datapositivo = [AACompData, DPCompData, MoreauBrotoAutoData, MoranAutoData, GearyAutoData, \n",
    "#       CTDData, SOCNData, QSOData]\n",
    "datapositivo = [DPCompData]\n",
    "datapositivo = pd.concat(datapositivo)\n",
    "datapositivo = datapositivo.T\n",
    "datapositivo['Classe'] = np.repeat(1, datapositivo.shape[0]).tolist()"
   ]
  },
  {
   "cell_type": "code",
   "execution_count": null,
   "metadata": {},
   "outputs": [],
   "source": [
    "datapositivo.tail()"
   ]
  },
  {
   "cell_type": "code",
   "execution_count": null,
   "metadata": {},
   "outputs": [],
   "source": [
    "datapositivo.shape"
   ]
  },
  {
   "cell_type": "code",
   "execution_count": null,
   "metadata": {},
   "outputs": [],
   "source": [
    "indexpositivo = []\n",
    "for i in range(0, datapositivo.shape[0]): indexpositivo.append(str(\"Seq_Pos\"+str(i+1)))\n",
    "\n",
    "datapositivo.index = indexpositivo\n",
    "\n",
    "datapositivo.tail()"
   ]
  },
  {
   "cell_type": "markdown",
   "metadata": {},
   "source": [
    "# Negativas"
   ]
  },
  {
   "cell_type": "code",
   "execution_count": null,
   "metadata": {},
   "outputs": [],
   "source": [
    "#Leitura das sequências FASTA\n",
    "\n",
    "seqs = []\n",
    "for record in SeqIO.parse(\"LBtope_Fixed_non_redundant_Negative_pattern.txt.fasta\", \"fasta\"):\n",
    "    #print(record.seq)\n",
    "    seqs.append(record.seq)\n",
    "#seqs = seqs[0:2000]"
   ]
  },
  {
   "cell_type": "code",
   "execution_count": null,
   "metadata": {},
   "outputs": [],
   "source": [
    "if True : \n",
    "    \n",
    "    def getcaracteristicasDPComp(pep, kseq):\n",
    "\n",
    "        protein.ReadProteinSequence(pep)\n",
    "\n",
    "        kDPComp = protein.GetDPComp()\n",
    "        kDPComp = pd.DataFrame(kDPComp.items(), columns=['PepAAComp', kseq])\n",
    "        kDPComp = kDPComp.set_index('PepAAComp')\n",
    "\n",
    "        return(kDPComp)\n",
    "\n",
    "    for i in range(len(seqs)):\n",
    "\n",
    "        if i==0: DPCompData = getcaracteristicasDPComp(seqs[i], kseq=str(\"Seq\"+str(i+1)))\n",
    "        else: DPCompData = DPCompData.merge(getcaracteristicasDPComp(seqs[i], kseq=str(\"Seq\"+str(i+1))), \n",
    "                                left_on='PepAAComp', right_on='PepAAComp', how='inner')\n",
    "\n",
    "    print(DPCompData.shape)\n",
    "    \n",
    "if False: \n",
    "    \n",
    "    def getcaracteristicasAAComp(pep, kseq):\n",
    "\n",
    "        protein.ReadProteinSequence(pep)\n",
    "\n",
    "        kAAComp = protein.GetAAComp()\n",
    "        kAAComp = pd.DataFrame(kAAComp.items(), columns=['PepAAComp', kseq])\n",
    "        kAAComp = kAAComp.set_index('PepAAComp')\n",
    "\n",
    "        return(kAAComp)\n",
    "\n",
    "    for i in range(len(seqs)):\n",
    "\n",
    "        if i==0: AACompData = getcaracteristicasAAComp(seqs[i], kseq=str(\"Seq\"+str(i+1)))\n",
    "        else: AACompData = AACompData.merge(getcaracteristicasAAComp(seqs[i], kseq=str(\"Seq\"+str(i+1))), \n",
    "                                left_on='PepAAComp', right_on='PepAAComp', how='inner')\n",
    "\n",
    "    print(AACompData.shape)\n",
    "\n",
    "\n",
    "    def getcaracteristicasMoreauBrotoAuto(pep, kseq):\n",
    "\n",
    "        protein.ReadProteinSequence(pep)\n",
    "\n",
    "        kMoreauBrotoAuto = protein.GetMoreauBrotoAuto()\n",
    "        kMoreauBrotoAuto = pd.DataFrame(kMoreauBrotoAuto.items(), columns=['PepAAComp', kseq])\n",
    "        kMoreauBrotoAuto = kMoreauBrotoAuto.set_index('PepAAComp')\n",
    "\n",
    "        return(kMoreauBrotoAuto)\n",
    "\n",
    "    for i in range(len(seqs)):\n",
    "\n",
    "        if i==0: MoreauBrotoAutoData = getcaracteristicasMoreauBrotoAuto(seqs[i], kseq=str(\"Seq\"+str(i+1)))\n",
    "        else: MoreauBrotoAutoData = MoreauBrotoAutoData.merge(getcaracteristicasMoreauBrotoAuto(seqs[i], kseq=str(\"Seq\"+str(i+1))), \n",
    "                                left_on='PepAAComp', right_on='PepAAComp', how='inner')\n",
    "\n",
    "    print(MoreauBrotoAutoData.shape)\n",
    "\n",
    "    def getcaracteristicasMoranAuto(pep, kseq):\n",
    "\n",
    "        protein.ReadProteinSequence(pep)\n",
    "\n",
    "        kMoranAuto = protein.GetMoranAuto()\n",
    "        kMoranAuto = pd.DataFrame(kMoranAuto.items(), columns=['PepAAComp', kseq])\n",
    "        kMoranAuto = kMoranAuto.set_index('PepAAComp')\n",
    "\n",
    "        return(kMoranAuto)\n",
    "\n",
    "    for i in range(len(seqs)):\n",
    "\n",
    "        if i==0: MoranAutoData = getcaracteristicasMoranAuto(seqs[i], kseq=str(\"Seq\"+str(i+1)))\n",
    "        else: MoranAutoData = MoranAutoData.merge(getcaracteristicasMoranAuto(seqs[i], kseq=str(\"Seq\"+str(i+1))), \n",
    "                                left_on='PepAAComp', right_on='PepAAComp', how='inner')\n",
    "\n",
    "    print(MoranAutoData.shape)\n",
    "\n",
    "    def getcaracteristicasGearyAuto(pep, kseq):\n",
    "\n",
    "        protein.ReadProteinSequence(pep)\n",
    "\n",
    "        kGearyAuto = protein.GetGearyAuto()\n",
    "        kGearyAuto = pd.DataFrame(kGearyAuto.items(), columns=['PepAAComp', kseq])\n",
    "        kGearyAuto = kGearyAuto.set_index('PepAAComp')\n",
    "\n",
    "        return(kGearyAuto)\n",
    "\n",
    "    for i in range(len(seqs)):\n",
    "\n",
    "        if i==0: GearyAutoData = getcaracteristicasGearyAuto(seqs[i], kseq=str(\"Seq\"+str(i+1)))\n",
    "        else: GearyAutoData = GearyAutoData.merge(getcaracteristicasGearyAuto(seqs[i], kseq=str(\"Seq\"+str(i+1))), \n",
    "                                left_on='PepAAComp', right_on='PepAAComp', how='inner')\n",
    "\n",
    "    print(GearyAutoData.shape)\n",
    "\n",
    "    def getcaracteristicasCTD(pep, kseq):\n",
    "\n",
    "        kCTD = CTD.CalculateCTD(str(pep))\n",
    "        kCTD = pd.DataFrame(kCTD.items(), columns=['PepAAComp', kseq])\n",
    "        kCTD = kCTD.set_index('PepAAComp')\n",
    "\n",
    "        return(kCTD)\n",
    "\n",
    "    for i in range(len(seqs)):\n",
    "\n",
    "        if i==0: CTDData = getcaracteristicasCTD(seqs[i], kseq=str(\"Seq\"+str(i+1)))\n",
    "        else: CTDData = CTDData.merge(getcaracteristicasCTD(seqs[i], kseq=str(\"Seq\"+str(i+1))), \n",
    "                                left_on='PepAAComp', right_on='PepAAComp', how='inner')\n",
    "\n",
    "    print(CTDData.shape)\n",
    "\n",
    "    def getcaracteristicasSOCN(pep, kseq, kmaxlag=kmaxlag):\n",
    "\n",
    "        protein.ReadProteinSequence(pep)\n",
    "\n",
    "        kSOCN = protein.GetSOCN(maxlag=kmaxlag)\n",
    "        kSOCN = pd.DataFrame(kSOCN.items(), columns=['PepAAComp', kseq])\n",
    "        kSOCN = kSOCN.set_index('PepAAComp')\n",
    "\n",
    "        return(kSOCN)\n",
    "\n",
    "    for i in range(len(seqs)):\n",
    "\n",
    "        if i==0: SOCNData = getcaracteristicasSOCN(seqs[i], kseq=str(\"Seq\"+str(i+1)))\n",
    "        else: SOCNData = SOCNData.merge(getcaracteristicasSOCN(seqs[i], kseq=str(\"Seq\"+str(i+1))), \n",
    "                                left_on='PepAAComp', right_on='PepAAComp', how='inner')\n",
    "\n",
    "    print(SOCNData.shape)\n",
    "\n",
    "    def getcaracteristicasQSO(pep, kseq, kmaxlag=kmaxlag):\n",
    "\n",
    "        protein.ReadProteinSequence(pep)\n",
    "\n",
    "        kQSO = protein.GetQSO(maxlag=kmaxlag)\n",
    "        kQSO = pd.DataFrame(kQSO.items(), columns=['PepAAComp', kseq])\n",
    "        kQSO = kQSO.set_index('PepAAComp')\n",
    "\n",
    "        return(kQSO)\n",
    "\n",
    "    for i in range(len(seqs)):\n",
    "\n",
    "        if i==0: QSOData = getcaracteristicasQSO(seqs[i], kseq=str(\"Seq\"+str(i+1)))\n",
    "        else: QSOData = QSOData.merge(getcaracteristicasQSO(seqs[i], kseq=str(\"Seq\"+str(i+1))), \n",
    "                                left_on='PepAAComp', right_on='PepAAComp', how='inner')\n",
    "\n",
    "    print(QSOData.shape)"
   ]
  },
  {
   "cell_type": "code",
   "execution_count": null,
   "metadata": {},
   "outputs": [],
   "source": [
    "#datanegativo = [AACompData, DPCompData, MoreauBrotoAutoData, MoranAutoData, GearyAutoData, \n",
    "#       CTDData, SOCNData, QSOData]\n",
    "datanegativo = [DPCompData]\n",
    "datanegativo = pd.concat(datanegativo)\n",
    "datanegativo = datanegativo.T\n",
    "datanegativo['Classe'] = np.repeat(-1, datanegativo.shape[0]).tolist()"
   ]
  },
  {
   "cell_type": "code",
   "execution_count": null,
   "metadata": {},
   "outputs": [],
   "source": [
    "indexnegativo = []\n",
    "for i in range(0, datanegativo.shape[0]): indexnegativo.append(str(\"Seq_Neg\"+str(i+1)))\n",
    "\n",
    "datanegativo.index = indexnegativo\n",
    "\n",
    "datanegativo.tail()"
   ]
  },
  {
   "cell_type": "markdown",
   "metadata": {},
   "source": [
    "# Binding dados"
   ]
  },
  {
   "cell_type": "code",
   "execution_count": null,
   "metadata": {},
   "outputs": [],
   "source": [
    "data = [datapositivo, datanegativo]\n",
    "data = pd.concat(data)"
   ]
  },
  {
   "cell_type": "code",
   "execution_count": null,
   "metadata": {},
   "outputs": [],
   "source": [
    "data.shape"
   ]
  },
  {
   "cell_type": "code",
   "execution_count": null,
   "metadata": {},
   "outputs": [],
   "source": [
    "data.head()"
   ]
  },
  {
   "cell_type": "code",
   "execution_count": null,
   "metadata": {},
   "outputs": [],
   "source": [
    "data.tail()"
   ]
  },
  {
   "cell_type": "markdown",
   "metadata": {},
   "source": [
    "# Split treino-teste"
   ]
  },
  {
   "cell_type": "code",
   "execution_count": null,
   "metadata": {},
   "outputs": [],
   "source": [
    "X = np.array(data.drop(['Classe'], 1))\n",
    "y = np.array(data['Classe'])"
   ]
  },
  {
   "cell_type": "code",
   "execution_count": null,
   "metadata": {},
   "outputs": [],
   "source": [
    "X.shape"
   ]
  },
  {
   "cell_type": "code",
   "execution_count": null,
   "metadata": {},
   "outputs": [],
   "source": [
    "y.shape"
   ]
  },
  {
   "cell_type": "code",
   "execution_count": null,
   "metadata": {},
   "outputs": [],
   "source": [
    "treinoteste = 0.1\n",
    "from sklearn.model_selection import train_test_split  \n",
    "X_treino, X_teste, y_treino, y_teste = train_test_split(X, y, test_size=treinoteste, stratify=y, \n",
    "                                                       random_state=101)"
   ]
  },
  {
   "cell_type": "markdown",
   "metadata": {},
   "source": [
    "# Saves"
   ]
  },
  {
   "cell_type": "code",
   "execution_count": null,
   "metadata": {},
   "outputs": [],
   "source": [
    "if False: \n",
    "    \n",
    "    with open(\"Data_X_treino\", \"wb\") as fp:   #Pickling\n",
    "        pickle.dump(X_treino, fp)   \n",
    "    with open(\"Data_y_treino\", \"wb\") as fp:   #Pickling\n",
    "        pickle.dump(y_treino, fp)   \n",
    "\n",
    "    with open(\"Data_X_teste\", \"wb\") as fp:   #Pickling\n",
    "        pickle.dump(X_teste, fp)   \n",
    "    with open(\"Data_y_teste\", \"wb\") as fp:   #Pickling\n",
    "        pickle.dump(y_teste, fp) \n",
    "    \n",
    "    with open(\"Features\", \"wb\") as fp:   #Pickling\n",
    "        pickle.dump(data.columns.values, fp)"
   ]
  },
  {
   "cell_type": "code",
   "execution_count": null,
   "metadata": {},
   "outputs": [],
   "source": [
    "#Salvar para checar se diferentes execuções produzem o mesmo vetor de características.\n",
    "#Rode duas vezes e use o ChecagemVetorCaracteristica.ipnb\n",
    "\n",
    "if False: \n",
    "    \n",
    "    with open(\"DadosTotal\", \"wb\") as fp:   #Pickling\n",
    "        pickle.dump(data, fp) "
   ]
  },
  {
   "cell_type": "code",
   "execution_count": null,
   "metadata": {},
   "outputs": [],
   "source": [
    "#Features "
   ]
  },
  {
   "cell_type": "code",
   "execution_count": null,
   "metadata": {},
   "outputs": [],
   "source": [
    "features = data.columns.values\n",
    "features[np.where(features==\"NA\")[0]]=\"NAA\""
   ]
  },
  {
   "cell_type": "code",
   "execution_count": null,
   "metadata": {},
   "outputs": [],
   "source": [
    "DadosTreinoCru = pd.DataFrame(np.column_stack((X_treino, y_treino)), \n",
    "                              columns=features)\n",
    "\n",
    "DadosTesteCru = pd.DataFrame(np.column_stack((X_teste, y_teste)), \n",
    "                              columns=features)"
   ]
  },
  {
   "cell_type": "code",
   "execution_count": null,
   "metadata": {},
   "outputs": [],
   "source": [
    "print(DadosTreinoCru.shape)\n",
    "print(DadosTesteCru.shape)"
   ]
  },
  {
   "cell_type": "code",
   "execution_count": null,
   "metadata": {},
   "outputs": [],
   "source": [
    "#Salvar tabela de dados principal \n",
    "\n",
    "with open(\"DadosTreinoCru\", \"wb\") as fp:   #Pickling\n",
    "    pickle.dump(DadosTreinoCru, fp)   \n",
    "with open(\"DadosTesteCru\", \"wb\") as fp:   #Pickling\n",
    "    pickle.dump(DadosTesteCru, fp) "
   ]
  },
  {
   "cell_type": "code",
   "execution_count": null,
   "metadata": {},
   "outputs": [],
   "source": [
    "#Salvar no formato adequado am mRMR.\n",
    "if True: \n",
    "    \n",
    "    #Manipular as features para adequar ao mRMR.\n",
    "    featuresmrmr = []\n",
    "    featuresmrmr.append(DadosTreinoCru.shape[1]-1)\n",
    "    for i in range(DadosTreinoCru.shape[1]-1):\n",
    "        featuresmrmr.append(i)\n",
    "\n",
    "    featuresmrmr = DadosTreinoCru.columns.values[featuresmrmr]\n",
    "    \n",
    "    DadosTreinomrmrCSV = DadosTreinoCru[featuresmrmr]\n",
    "\n",
    "    normalizar = False\n",
    "\n",
    "    if normalizar: #Normalizar?\n",
    "        from sklearn.preprocessing import StandardScaler\n",
    "        scaler = StandardScaler()\n",
    "        y_treino_cru = np.array(DadosTreinoCru['Classe'])\n",
    "        X_treino_cru = np.array(DadosTreinoCru.drop(['Classe'], 1))\n",
    "        DadosTreinomrmrCSV = pd.DataFrame(np.column_stack((y_treino_cru, \n",
    "                             scaler.fit_transform(X_treino_cru))), \n",
    "                             columns=DadosTreinomrmrCSV.columns)\n",
    "\n",
    "    #Salvar no formato adequado ao mrmr. \n",
    "    #data_converted_csv = data_converted_csv.sample(frac=1.0) #Random data\n",
    "    DadosTreinomrmrCSV.to_csv(\"DadosTreinoCruCSVmrmr.csv\", header=True, index=False)\n",
    "    \n",
    "    DadosTreinomrmrCSV.head()"
   ]
  },
  {
   "cell_type": "code",
   "execution_count": null,
   "metadata": {},
   "outputs": [],
   "source": [
    "print(\"OK.\")"
   ]
  }
 ],
 "metadata": {
  "kernelspec": {
   "display_name": "Python 2",
   "language": "python",
   "name": "python2"
  },
  "language_info": {
   "codemirror_mode": {
    "name": "ipython",
    "version": 2
   },
   "file_extension": ".py",
   "mimetype": "text/x-python",
   "name": "python",
   "nbconvert_exporter": "python",
   "pygments_lexer": "ipython2",
   "version": "2.7.15rc1"
  }
 },
 "nbformat": 4,
 "nbformat_minor": 2
}

{
 "cells": [
  {
   "cell_type": "code",
   "execution_count": 1,
   "metadata": {},
   "outputs": [],
   "source": [
    "#Checar se o vetor de características está mudando"
   ]
  },
  {
   "cell_type": "code",
   "execution_count": 3,
   "metadata": {},
   "outputs": [],
   "source": [
    "import pickle\n",
    "import numpy as np"
   ]
  },
  {
   "cell_type": "code",
   "execution_count": 10,
   "metadata": {},
   "outputs": [
    {
     "name": "stdout",
     "output_type": "stream",
     "text": [
      "Vetor de caracterísitca OK.\n"
     ]
    }
   ],
   "source": [
    "with open('DadosTotalOld', 'rb') as fp:\n",
    "        dataold = pickle.load(fp)\n",
    "\n",
    "with open('DadosTotal', 'rb') as fp:\n",
    "        datalessold = pickle.load(fp)\n",
    "\n",
    "dataold = np.array(dataold)\n",
    "datalessold = np.array(datalessold)\n",
    "\n",
    "if np.sum(np.isclose(dataold, datalessold, rtol=1e-10)==False)==0:\n",
    "    print(\"Vetor de caracterísitca OK.\")\n",
    "else: print(\"Sério problema com o vetor de característica.\")"
   ]
  }
 ],
 "metadata": {
  "kernelspec": {
   "display_name": "Python 2",
   "language": "python",
   "name": "python2"
  },
  "language_info": {
   "codemirror_mode": {
    "name": "ipython",
    "version": 2
   },
   "file_extension": ".py",
   "mimetype": "text/x-python",
   "name": "python",
   "nbconvert_exporter": "python",
   "pygments_lexer": "ipython2",
   "version": "2.7.12"
  }
 },
 "nbformat": 4,
 "nbformat_minor": 2
}

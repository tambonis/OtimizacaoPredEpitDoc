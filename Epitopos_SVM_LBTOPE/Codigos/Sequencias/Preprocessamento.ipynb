{
 "cells": [
  {
   "cell_type": "code",
   "execution_count": 1,
   "metadata": {},
   "outputs": [],
   "source": [
    "###########################################################################################################\n",
    "#Preprocessamento\n",
    "#Tiago Tambonis\n",
    "#02/02/19\n",
    "###########################################################################################################"
   ]
  },
  {
   "cell_type": "code",
   "execution_count": 2,
   "metadata": {},
   "outputs": [],
   "source": [
    "import pandas as pd\n",
    "import pickle\n",
    "import numpy as np\n",
    "from sklearn.feature_selection import VarianceThreshold"
   ]
  },
  {
   "cell_type": "code",
   "execution_count": 3,
   "metadata": {},
   "outputs": [],
   "source": [
    "#Carregar \n",
    "\n",
    "with open('DadosTreinoCru', 'rb') as fp:\n",
    "        DadosTreinoCru = pickle.load(fp)\n",
    "\n",
    "with open('DadosTesteCru', 'rb') as fp:\n",
    "        DadosTesteCru = pickle.load(fp)"
   ]
  },
  {
   "cell_type": "code",
   "execution_count": 4,
   "metadata": {},
   "outputs": [
    {
     "name": "stdout",
     "output_type": "stream",
     "text": [
      "('Shape inicial: ', (14103, 401))\n"
     ]
    }
   ],
   "source": [
    "print(\"Shape inicial: \", DadosTreinoCru.shape)"
   ]
  },
  {
   "cell_type": "code",
   "execution_count": 5,
   "metadata": {},
   "outputs": [
    {
     "name": "stdout",
     "output_type": "stream",
     "text": [
      "(14103, 401)\n",
      "(1568, 401)\n"
     ]
    }
   ],
   "source": [
    "#Removing constant features\n",
    "\n",
    "constant_filter = VarianceThreshold(threshold=0)\n",
    "constant_filter.fit(DadosTreinoCru)\n",
    "\n",
    "constant_columns = [column for column in DadosTreinoCru.columns if column not in \n",
    "                    DadosTreinoCru.columns[constant_filter.get_support()]]\n",
    "\n",
    "DadosTreinoCru.drop(labels=constant_columns, axis=1, inplace=True)\n",
    "DadosTesteCru.drop(labels=constant_columns, axis=1, inplace=True)\n",
    "\n",
    "print(DadosTreinoCru.shape)\n",
    "print(DadosTesteCru.shape)"
   ]
  },
  {
   "cell_type": "code",
   "execution_count": 6,
   "metadata": {},
   "outputs": [
    {
     "name": "stdout",
     "output_type": "stream",
     "text": [
      "(14103, 401)\n",
      "(1568, 401)\n"
     ]
    }
   ],
   "source": [
    "#Removing quasi-constant features\n",
    "\n",
    "qconstant_filter = VarianceThreshold(threshold=0.01)\n",
    "qconstant_filter.fit(DadosTreinoCru)\n",
    "\n",
    "qconstat_columns = [column for column in DadosTreinoCru.columns if column not in \n",
    "                    DadosTreinoCru.columns[qconstant_filter.get_support()]]\n",
    "\n",
    "DadosTreinoCru.drop(labels=qconstat_columns, axis=1, inplace=True)\n",
    "DadosTesteCru.drop(labels=qconstat_columns, axis=1, inplace=True)\n",
    "\n",
    "print(DadosTreinoCru.shape)\n",
    "print(DadosTesteCru.shape)"
   ]
  },
  {
   "cell_type": "code",
   "execution_count": 7,
   "metadata": {},
   "outputs": [
    {
     "name": "stdout",
     "output_type": "stream",
     "text": [
      "(14103, 401)\n",
      "(1568, 401)\n"
     ]
    }
   ],
   "source": [
    "#Removing duplicate features\n",
    "\n",
    "DadosTreinoCru_T = DadosTreinoCru.T\n",
    "DadosTreinoCru_T.shape\n",
    "\n",
    "DadosTreinoCru = DadosTreinoCru_T.drop_duplicates(keep='first').T\n",
    "\n",
    "print(DadosTreinoCru.shape)\n",
    "print(DadosTesteCru.shape)"
   ]
  },
  {
   "cell_type": "code",
   "execution_count": 8,
   "metadata": {},
   "outputs": [
    {
     "name": "stdout",
     "output_type": "stream",
     "text": [
      "(14103, 401)\n",
      "(1568, 401)\n"
     ]
    }
   ],
   "source": [
    "#Removing correlated features\n",
    "\n",
    "correlated_features = set()\n",
    "correlation_matrix = DadosTreinoCru.corr()\n",
    "\n",
    "for i in range(len(correlation_matrix.columns)):\n",
    "    for j in range(i):\n",
    "        if abs(correlation_matrix.iloc[i,j]) > 0.8:\n",
    "            colname = correlation_matrix.columns[i]\n",
    "            correlated_features.add(colname)\n",
    "\n",
    "DadosTreinoCru.drop(labels=correlated_features, axis=1, inplace=True)\n",
    "DadosTesteCru.drop(labels=correlated_features, axis=1, inplace=True)\n",
    "\n",
    "print(DadosTreinoCru.shape)\n",
    "print(DadosTesteCru.shape)"
   ]
  },
  {
   "cell_type": "markdown",
   "metadata": {},
   "source": [
    "# Save"
   ]
  },
  {
   "cell_type": "code",
   "execution_count": 9,
   "metadata": {},
   "outputs": [],
   "source": [
    "#Saving \n",
    "\n",
    "with open(\"DadosTreinoCru\", \"wb\") as fp:   #Pickling\n",
    "    pickle.dump(DadosTreinoCru, fp)   \n",
    "with open(\"DadosTesteCru\", \"wb\") as fp:   #Pickling\n",
    "    pickle.dump(DadosTesteCru, fp) "
   ]
  },
  {
   "cell_type": "code",
   "execution_count": 10,
   "metadata": {},
   "outputs": [],
   "source": [
    "#Salvar no formato adequado am mRMR.\n",
    "if True: \n",
    "    \n",
    "    #Manipular as features para adequar ao mRMR.\n",
    "    featuresmrmr = []\n",
    "    featuresmrmr.append(DadosTreinoCru.shape[1]-1)\n",
    "    for i in range(DadosTreinoCru.shape[1]-1):\n",
    "        featuresmrmr.append(i)\n",
    "\n",
    "    featuresmrmr = DadosTreinoCru.columns.values[featuresmrmr]\n",
    "    \n",
    "    DadosTreinomrmrCSV = DadosTreinoCru[featuresmrmr]\n",
    "\n",
    "    normalizar = False\n",
    "\n",
    "    if normalizar: #Normalizar?\n",
    "        from sklearn.preprocessing import StandardScaler\n",
    "        scaler = StandardScaler()\n",
    "        y_treino_cru = np.array(DadosTreinoCru['Classe'])\n",
    "        X_treino_cru = np.array(DadosTreinoCru.drop(['Classe'], 1))\n",
    "        DadosTreinomrmrCSV = pd.DataFrame(np.column_stack((y_treino_cru, \n",
    "                             scaler.fit_transform(X_treino_cru))), \n",
    "                             columns=DadosTreinomrmrCSV.columns)\n",
    "\n",
    "    #Salvar no formato adequado ao mrmr. \n",
    "    #data_converted_csv = data_converted_csv.sample(frac=1.0) #Random data\n",
    "    DadosTreinomrmrCSV.to_csv(\"DadosTreinoCruCSVmrmr.csv\", header=True, index=False)\n",
    "    \n",
    "    DadosTreinomrmrCSV.head()"
   ]
  },
  {
   "cell_type": "code",
   "execution_count": 11,
   "metadata": {},
   "outputs": [
    {
     "name": "stdout",
     "output_type": "stream",
     "text": [
      "Shapes finais \n",
      "\n",
      "(14103, 401)\n",
      "(1568, 401)\n"
     ]
    }
   ],
   "source": [
    "print(\"Shapes finais \\n\")\n",
    "print(DadosTreinoCru.shape)\n",
    "print(DadosTesteCru.shape)"
   ]
  },
  {
   "cell_type": "code",
   "execution_count": 12,
   "metadata": {},
   "outputs": [
    {
     "name": "stdout",
     "output_type": "stream",
     "text": [
      "OK\n"
     ]
    }
   ],
   "source": [
    "print(\"OK\")"
   ]
  },
  {
   "cell_type": "code",
   "execution_count": 13,
   "metadata": {},
   "outputs": [
    {
     "data": {
      "text/html": [
       "<div>\n",
       "<style scoped>\n",
       "    .dataframe tbody tr th:only-of-type {\n",
       "        vertical-align: middle;\n",
       "    }\n",
       "\n",
       "    .dataframe tbody tr th {\n",
       "        vertical-align: top;\n",
       "    }\n",
       "\n",
       "    .dataframe thead th {\n",
       "        text-align: right;\n",
       "    }\n",
       "</style>\n",
       "<table border=\"1\" class=\"dataframe\">\n",
       "  <thead>\n",
       "    <tr style=\"text-align: right;\">\n",
       "      <th></th>\n",
       "      <th>GW</th>\n",
       "      <th>GV</th>\n",
       "      <th>GT</th>\n",
       "      <th>GS</th>\n",
       "      <th>GR</th>\n",
       "      <th>GQ</th>\n",
       "      <th>GP</th>\n",
       "      <th>GY</th>\n",
       "      <th>GG</th>\n",
       "      <th>GF</th>\n",
       "      <th>...</th>\n",
       "      <th>AQ</th>\n",
       "      <th>AP</th>\n",
       "      <th>AS</th>\n",
       "      <th>AR</th>\n",
       "      <th>AT</th>\n",
       "      <th>AW</th>\n",
       "      <th>AV</th>\n",
       "      <th>AY</th>\n",
       "      <th>VK</th>\n",
       "      <th>Classe</th>\n",
       "    </tr>\n",
       "  </thead>\n",
       "  <tbody>\n",
       "    <tr>\n",
       "      <th>0</th>\n",
       "      <td>0.0</td>\n",
       "      <td>0.00</td>\n",
       "      <td>0.0</td>\n",
       "      <td>0.00</td>\n",
       "      <td>0.0</td>\n",
       "      <td>5.26</td>\n",
       "      <td>0.00</td>\n",
       "      <td>0.0</td>\n",
       "      <td>5.26</td>\n",
       "      <td>0.0</td>\n",
       "      <td>...</td>\n",
       "      <td>0.0</td>\n",
       "      <td>0.00</td>\n",
       "      <td>0.0</td>\n",
       "      <td>0.00</td>\n",
       "      <td>0.0</td>\n",
       "      <td>0.0</td>\n",
       "      <td>0.0</td>\n",
       "      <td>0.0</td>\n",
       "      <td>0.00</td>\n",
       "      <td>-1.0</td>\n",
       "    </tr>\n",
       "    <tr>\n",
       "      <th>1</th>\n",
       "      <td>0.0</td>\n",
       "      <td>5.26</td>\n",
       "      <td>0.0</td>\n",
       "      <td>0.00</td>\n",
       "      <td>0.0</td>\n",
       "      <td>0.00</td>\n",
       "      <td>0.00</td>\n",
       "      <td>0.0</td>\n",
       "      <td>5.26</td>\n",
       "      <td>0.0</td>\n",
       "      <td>...</td>\n",
       "      <td>0.0</td>\n",
       "      <td>0.00</td>\n",
       "      <td>0.0</td>\n",
       "      <td>5.26</td>\n",
       "      <td>0.0</td>\n",
       "      <td>0.0</td>\n",
       "      <td>0.0</td>\n",
       "      <td>0.0</td>\n",
       "      <td>0.00</td>\n",
       "      <td>-1.0</td>\n",
       "    </tr>\n",
       "    <tr>\n",
       "      <th>2</th>\n",
       "      <td>0.0</td>\n",
       "      <td>0.00</td>\n",
       "      <td>0.0</td>\n",
       "      <td>0.00</td>\n",
       "      <td>0.0</td>\n",
       "      <td>0.00</td>\n",
       "      <td>0.00</td>\n",
       "      <td>0.0</td>\n",
       "      <td>0.00</td>\n",
       "      <td>0.0</td>\n",
       "      <td>...</td>\n",
       "      <td>0.0</td>\n",
       "      <td>0.00</td>\n",
       "      <td>0.0</td>\n",
       "      <td>0.00</td>\n",
       "      <td>0.0</td>\n",
       "      <td>0.0</td>\n",
       "      <td>0.0</td>\n",
       "      <td>0.0</td>\n",
       "      <td>0.00</td>\n",
       "      <td>-1.0</td>\n",
       "    </tr>\n",
       "    <tr>\n",
       "      <th>3</th>\n",
       "      <td>0.0</td>\n",
       "      <td>0.00</td>\n",
       "      <td>0.0</td>\n",
       "      <td>5.26</td>\n",
       "      <td>0.0</td>\n",
       "      <td>0.00</td>\n",
       "      <td>0.00</td>\n",
       "      <td>0.0</td>\n",
       "      <td>0.00</td>\n",
       "      <td>0.0</td>\n",
       "      <td>...</td>\n",
       "      <td>0.0</td>\n",
       "      <td>0.00</td>\n",
       "      <td>0.0</td>\n",
       "      <td>0.00</td>\n",
       "      <td>0.0</td>\n",
       "      <td>0.0</td>\n",
       "      <td>0.0</td>\n",
       "      <td>0.0</td>\n",
       "      <td>5.26</td>\n",
       "      <td>-1.0</td>\n",
       "    </tr>\n",
       "    <tr>\n",
       "      <th>4</th>\n",
       "      <td>0.0</td>\n",
       "      <td>0.00</td>\n",
       "      <td>0.0</td>\n",
       "      <td>0.00</td>\n",
       "      <td>0.0</td>\n",
       "      <td>0.00</td>\n",
       "      <td>5.26</td>\n",
       "      <td>0.0</td>\n",
       "      <td>0.00</td>\n",
       "      <td>0.0</td>\n",
       "      <td>...</td>\n",
       "      <td>0.0</td>\n",
       "      <td>5.26</td>\n",
       "      <td>0.0</td>\n",
       "      <td>0.00</td>\n",
       "      <td>0.0</td>\n",
       "      <td>0.0</td>\n",
       "      <td>0.0</td>\n",
       "      <td>0.0</td>\n",
       "      <td>0.00</td>\n",
       "      <td>1.0</td>\n",
       "    </tr>\n",
       "  </tbody>\n",
       "</table>\n",
       "<p>5 rows × 401 columns</p>\n",
       "</div>"
      ],
      "text/plain": [
       "    GW    GV   GT    GS   GR    GQ    GP   GY    GG   GF  ...   AQ    AP   AS  \\\n",
       "0  0.0  0.00  0.0  0.00  0.0  5.26  0.00  0.0  5.26  0.0  ...  0.0  0.00  0.0   \n",
       "1  0.0  5.26  0.0  0.00  0.0  0.00  0.00  0.0  5.26  0.0  ...  0.0  0.00  0.0   \n",
       "2  0.0  0.00  0.0  0.00  0.0  0.00  0.00  0.0  0.00  0.0  ...  0.0  0.00  0.0   \n",
       "3  0.0  0.00  0.0  5.26  0.0  0.00  0.00  0.0  0.00  0.0  ...  0.0  0.00  0.0   \n",
       "4  0.0  0.00  0.0  0.00  0.0  0.00  5.26  0.0  0.00  0.0  ...  0.0  5.26  0.0   \n",
       "\n",
       "     AR   AT   AW   AV   AY    VK  Classe  \n",
       "0  0.00  0.0  0.0  0.0  0.0  0.00    -1.0  \n",
       "1  5.26  0.0  0.0  0.0  0.0  0.00    -1.0  \n",
       "2  0.00  0.0  0.0  0.0  0.0  0.00    -1.0  \n",
       "3  0.00  0.0  0.0  0.0  0.0  5.26    -1.0  \n",
       "4  0.00  0.0  0.0  0.0  0.0  0.00     1.0  \n",
       "\n",
       "[5 rows x 401 columns]"
      ]
     },
     "execution_count": 13,
     "metadata": {},
     "output_type": "execute_result"
    }
   ],
   "source": [
    "DadosTesteCru.head()"
   ]
  }
 ],
 "metadata": {
  "kernelspec": {
   "display_name": "Python 2",
   "language": "python",
   "name": "python2"
  },
  "language_info": {
   "codemirror_mode": {
    "name": "ipython",
    "version": 2
   },
   "file_extension": ".py",
   "mimetype": "text/x-python",
   "name": "python",
   "nbconvert_exporter": "python",
   "pygments_lexer": "ipython2",
   "version": "2.7.12"
  }
 },
 "nbformat": 4,
 "nbformat_minor": 2
}

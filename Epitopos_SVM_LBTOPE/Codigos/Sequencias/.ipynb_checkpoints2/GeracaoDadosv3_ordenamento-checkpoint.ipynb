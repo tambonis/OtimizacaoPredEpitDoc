{
 "cells": [
  {
   "cell_type": "code",
   "execution_count": 1,
   "metadata": {},
   "outputs": [],
   "source": [
    "##############################################\n",
    "#Geração de dados v2\n",
    "#Talvez esteja ocorrendo erro com a ordem nos \n",
    "#dicionários.\n",
    "##############################################"
   ]
  },
  {
   "cell_type": "code",
   "execution_count": 2,
   "metadata": {},
   "outputs": [],
   "source": [
    "from Bio import SeqIO #Para leitura das sequências\n",
    "import numpy as np\n",
    "from pydpi.pypro import PyPro\n",
    "from pydpi.pypro import CTD\n",
    "import pickle\n",
    "import pandas as pd"
   ]
  },
  {
   "cell_type": "code",
   "execution_count": 3,
   "metadata": {},
   "outputs": [],
   "source": [
    "def ordering(temp): #Ordering e convertion\n",
    "    temp = np.array(list(temp.items())) #Ordering\n",
    "    temp = temp[:,1]\n",
    "    temp = temp.astype(np.float) #Convertion\n",
    "    return(temp)"
   ]
  },
  {
   "cell_type": "code",
   "execution_count": 4,
   "metadata": {},
   "outputs": [],
   "source": [
    "def getkeys(dic):\n",
    "    \n",
    "    if False:\n",
    "        temp = []\n",
    "        for key, value in dic.iteritems():\n",
    "            print(key)\n",
    "            temp.append(key)\n",
    "\n",
    "    if False:\n",
    "        temp = np.array(list(dic.items())) #Ordering\n",
    "        temp = dic[:,0]\n",
    "    \n",
    "    if False:\n",
    "        temp = []\n",
    "        for key, value in dic.items():\n",
    "            temp.append(key)\n",
    "    \n",
    "    if True:\n",
    "        temp = []\n",
    "        for key in sorted(dic.iterkeys()):\n",
    "            temp.append(key)\n",
    "        \n",
    "    return(temp)"
   ]
  },
  {
   "cell_type": "code",
   "execution_count": 5,
   "metadata": {},
   "outputs": [],
   "source": [
    "def getcaracteristicas(pep):\n",
    "\n",
    "    #Objeto seq\n",
    "    protein = PyPro()\n",
    "    protein.ReadProteinSequence(pep)\n",
    "\n",
    "    aacomp = protein.GetAAComp()\n",
    "    aacomp = getkeys(aacomp)\n",
    "    #aacomp = np.array(protein.GetAAComp().values())\n",
    "    #Amino acid compositon descriptors (20)\n",
    "\n",
    "    diaacom = protein.GetDPComp()\n",
    "    diaacom = getkeys(diaacom)\n",
    "    #diaacom = np.array(protein.GetDPComp().values())\n",
    "    #dipeptide composition descriptors (400)\n",
    "\n",
    "    moreaubroto = protein.GetMoreauBrotoAuto()\n",
    "    moreaubroto = getkeys(moreaubroto)\n",
    "    #moreaubroto = np.array(protein.GetMoreauBrotoAuto().values())\n",
    "    #Normalized Moreau-Broto autocorrelation descriptors (240)\n",
    "\n",
    "    moranauto = protein.GetMoranAuto()\n",
    "    moranauto = getkeys(moranauto)\n",
    "    #moranauto = np.array(protein.GetMoranAuto().values())\n",
    "    #Moran autocorrelation descriptors (240)\n",
    "\n",
    "    geryauto = protein.GetGearyAuto()\n",
    "    geryauto = getkeys(geryauto)\n",
    "    #geryauto = np.array(protein.GetGearyAuto().values())\n",
    "    #Geary autocorrelation descriptors (240)\n",
    "\n",
    "    ctd = CTD.CalculateCTD(str(protein)) #Bug por isso vou mudar a estrutura\n",
    "    ctd = getkeys(ctd)\n",
    "    #ctd = np.array(CTD.CalculateCTD(str(protein)).values())\n",
    "    #Composition Transition Distribution descriptors (147)\n",
    "\n",
    "    socn = protein.GetSOCN(maxlag=45)\n",
    "    socn = getkeys(socn)\n",
    "    #socn = np.array(protein.GetSOCN(maxlag=45).values())\n",
    "    #GetSOCN(self,maxlag=45):\n",
    "    #Sequence order coupling numbers  default is 45\n",
    "    #POSSO VARIAR O MAXLAG.\n",
    "\n",
    "    qso = protein.GetQSO(maxlag=45)\n",
    "    qso = getkeys(qso)\n",
    "    #qso = np.array(protein.GetQSO(maxlag=45).values())\n",
    "    #GetQSO(self,maxlag=30,weight=0.1)\n",
    "    #Quasi sequence order descriptors  default is 50\n",
    "    #result = GetQSO(maxlag=30, weight=0.1)\n",
    "\n",
    "    #paac = np.array(protein.GetPAAC(lamda=10,weight=0.05).values())\n",
    "    #GetPAAC(self,lamda=10,weight=0.05):\n",
    "    #Type I Pseudo amino acid composition descriptors (default is 30)\n",
    "    parameters_paac = np.array([[1, 0.005], [1, 0.05], [1, 0.5], [1, 1], \n",
    "         [5, 0.005], [5, 0.05], [5, 0.5], [5, 1],\n",
    "         [10, 0.005], [10, 0.05], [10, 0.5], [10, 1]])\n",
    "    for i in range(parameters_paac.shape[0]):\n",
    "        if i==0: \n",
    "            paac = protein.GetPAAC(lamda=int(parameters_paac[i,0]),\n",
    "                             weight=parameters_paac[i,1])\n",
    "            paac = getkeys(paac)\n",
    "            #paac = np.array(protein.GetPAAC(lamda=int(parameters_paac[i,0]),\n",
    "                             #weight=parameters_paac[i,1]).values())\n",
    "        else: \n",
    "            paac_temp = protein.GetPAAC(lamda=int(parameters_paac[i,0]),\n",
    "                             weight=parameters_paac[i,1])\n",
    "            paac_temp = getkeys(paac_temp)\n",
    "            paac = np.concatenate((paac, paac_temp))\n",
    "            #paac = np.concatenate((paac, np.array(protein.GetPAAC(lamda=int(parameters_paac[i,0]),\n",
    "                             #weight=parameters_paac[i,1]).values())))\n",
    "\n",
    "    characvetortemp = np.concatenate((aacomp, diaacom, moreaubroto, moranauto, geryauto, \n",
    "                                     ctd, socn, qso, paac), axis=0)\n",
    "    \n",
    "    return(characvetortemp)"
   ]
  },
  {
   "cell_type": "code",
   "execution_count": 6,
   "metadata": {},
   "outputs": [],
   "source": [
    "#Leitura das sequências imunológicas FASTA\n",
    "\n",
    "seqs = []\n",
    "for record in SeqIO.parse(\"Positivas\", \"fasta\"):\n",
    "    #print(record.seq)\n",
    "    seqs.append(record.seq)"
   ]
  },
  {
   "cell_type": "code",
   "execution_count": 7,
   "metadata": {},
   "outputs": [],
   "source": [
    "for i in range(len(seqs)):\n",
    "    if i==0:\n",
    "        imu = np.array(getcaracteristicas(seqs[i]))\n",
    "    else: imu = np.row_stack((imu, getcaracteristicas(seqs[i])))\n",
    "        \n",
    "imu = np.column_stack((imu, np.repeat(1, imu.shape[0])))"
   ]
  },
  {
   "cell_type": "code",
   "execution_count": 8,
   "metadata": {},
   "outputs": [],
   "source": [
    "#Leitura das sequências imunológicas FASTA\n",
    "\n",
    "seqs = []\n",
    "for record in SeqIO.parse(\"Negativas\", \"fasta\"):\n",
    "    #print(record.seq)\n",
    "    seqs.append(record.seq)"
   ]
  },
  {
   "cell_type": "code",
   "execution_count": 9,
   "metadata": {},
   "outputs": [],
   "source": [
    "for i in range(len(seqs)):\n",
    "    if i==0:\n",
    "        non_imu = np.array(getcaracteristicas(seqs[i]))\n",
    "    else: non_imu = np.row_stack((non_imu, getcaracteristicas(seqs[i])))\n",
    "        \n",
    "non_imu = np.column_stack((non_imu, np.repeat(-1, non_imu.shape[0])))"
   ]
  },
  {
   "cell_type": "code",
   "execution_count": 10,
   "metadata": {},
   "outputs": [],
   "source": [
    "#for i in range(non_imu.shape[1]):\n",
    "#    if (np.unique(non_imu[:,i])==np.unique(imu[:,i]))==False:\n",
    "#        if (i!=(imu.shape[1]-1)): \n",
    "#            print(i)\n",
    "#            print(\"Problema de ordenamento.\")\n",
    "\n",
    "notfunc = lambda item: not item\n",
    "for i in range(non_imu.shape[1]):\n",
    "    test = list(map(notfunc, np.unique(non_imu[:,i])==np.unique(imu[:,i])))\n",
    "    if np.sum(test) > 0: \n",
    "        if (i!=(imu.shape[1]-1)): \n",
    "            print(\"Error.\")\n",
    "            print(\"Feature: \", i)\n",
    "            print(\"Ordering problem.\")"
   ]
  },
  {
   "cell_type": "code",
   "execution_count": 11,
   "metadata": {},
   "outputs": [],
   "source": [
    "data = np.append(imu, non_imu, axis=0)\n",
    "#np.random.shuffle(data)"
   ]
  }
 ],
 "metadata": {
  "kernelspec": {
   "display_name": "Python 2",
   "language": "python",
   "name": "python2"
  },
  "language_info": {
   "codemirror_mode": {
    "name": "ipython",
    "version": 2
   },
   "file_extension": ".py",
   "mimetype": "text/x-python",
   "name": "python",
   "nbconvert_exporter": "python",
   "pygments_lexer": "ipython2",
   "version": "2.7.12"
  }
 },
 "nbformat": 4,
 "nbformat_minor": 2
}

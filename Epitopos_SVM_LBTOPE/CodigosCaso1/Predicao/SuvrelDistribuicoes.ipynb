{
 "cells": [
  {
   "cell_type": "code",
   "execution_count": 1,
   "metadata": {},
   "outputs": [],
   "source": [
    "########################################################################################################\n",
    "#Tiago Tambonis - 2017 - 2018 - 2019 \n",
    "#Observação: Cuidado com as definições de variáveis no arquivo Geração_imuno.sh e Geração_Non_imuno.sh.\n",
    "#Na atual definição estou considerando somente 1 vizinho. Atenção ao scoring associado à GridSearch.\n",
    "#Objetivo: avaliar os resultados preditivos sem uso do Suvrel.\n",
    "#FEATURE SELECTION WITH MRMR.\n",
    "########################################################################################################"
   ]
  },
  {
   "cell_type": "code",
   "execution_count": 3,
   "metadata": {},
   "outputs": [],
   "source": [
    "#Imports \n",
    "\n",
    "import warnings\n",
    "warnings.filterwarnings(\"ignore\", message=\"numpy.dtype size changed\")\n",
    "warnings.filterwarnings(\"ignore\", message=\"numpy.ufunc size changed\")\n",
    "import pandas as pd\n",
    "import numpy as np\n",
    "from itertools import combinations\n",
    "import matplotlib.pyplot as plt\n",
    "from sklearn.grid_search import GridSearchCV\n",
    "from sklearn.metrics import classification_report, confusion_matrix, accuracy_score, matthews_corrcoef, roc_auc_score\n",
    "from sklearn.svm import SVC\n",
    "from sklearn.preprocessing import StandardScaler, MinMaxScaler\n",
    "import pickle\n",
    "from scipy.spatial.distance import squareform, pdist\n",
    "from sklearn.model_selection import train_test_split\n",
    "from scipy.stats import entropy\n",
    "\n",
    "random_state=101"
   ]
  },
  {
   "cell_type": "code",
   "execution_count": 4,
   "metadata": {},
   "outputs": [],
   "source": [
    "## Função Suvrel.\n",
    "\n",
    "def suvrel(X, y, gamma=2.0, norm=None, distance=False):\n",
    "    \"\"\"\n",
    "    Return: a metric tensor for the data\n",
    "    X columns representing samples and lines dimentions\n",
    "    y labels\n",
    "    gamma is a float\n",
    "    norm:{None,\\\"unity\\\",\\\"t-test\\\"}\n",
    "    distance: {False, True} if True return a tuple (weights, D)\n",
    "    where D is the distanca matrix of the data\n",
    "    for the geometric approach method\n",
    "    \"\"\"\n",
    "\n",
    "    classes = list(set(y))\n",
    "    n_classes = len(classes)\n",
    "    dim = X.shape[1]\n",
    "\n",
    "    if norm is None or norm == \"unity\":\n",
    "        mean_cl = np.zeros((n_classes, dim))\n",
    "        for i, cl in enumerate(classes):\n",
    "            mean_cl[i] = np.mean(X[y == cl], axis=0)\n",
    "\n",
    "        smeans = np.zeros(dim)\n",
    "        for i, j in combinations(range(n_classes), 2):\n",
    "            smeans += (mean_cl[i] - mean_cl[j]) ** 2\n",
    "\n",
    "        if gamma != 2:\n",
    "            var_cl = np.zeros((n_classes, dim))\n",
    "            for cl in classes:\n",
    "                var_cl[cl] = np.var(X[y == cl], axis=0)\n",
    "            svar = np.sum(var_cl, axis=0)\n",
    "            weights = ((gamma - 2.) * svar \n",
    "                        +  gamma /( n_classes - 1) * smeans)\n",
    "        else:\n",
    "            weights = smeans\n",
    "\n",
    "        weights[weights < 0] = 0\n",
    "\n",
    "        if norm is \"unity\":\n",
    "            weights = weights / np.var(X, axis=0)\n",
    "\n",
    "        if distance:\n",
    "            return (weights / np.sqrt(np.sum(weights ** 2)),\n",
    "                    squareform(pdist(X * np.sqrt(weights))))\n",
    "        else:\n",
    "            return weights / np.sqrt(np.sum(weights ** 2))\n",
    "\n",
    "    elif norm == \"t-test\":\n",
    "        if n_classes == 2:\n",
    "            mean_cl = np.zeros((n_classes, dim))\n",
    "            var_cl = np.zeros((n_classes, dim))\n",
    "            for i, cl in enumerate(classes):\n",
    "                mean_cl[i] = np.mean(X[y == cl], axis=0)\n",
    "                var_cl[i] = np.var(X[y == cl], axis=0)\n",
    "\n",
    "            for i, j in combinations(range(n_classes), 2):\n",
    "                smeans = (mean_cl[i] - mean_cl[j]) ** 2\n",
    "                #tnorm = (var_cl[i] / np.sum([y == classes[i]])\n",
    "                         #+ var_cl[j] / np.sum([y == classes[j]]))\n",
    "\n",
    "                # case with equal variance. Edited by Marcelo 21/10/13\n",
    "                n1 = np.sum([y == classes[i]])\n",
    "                n2 = np.sum([y == classes[j]])\n",
    "                tnorm = ((n1 - 1) * var_cl[i] + (n2 - 1) * var_cl[j]) \\\n",
    "                    / (n1 + n2 - 2)\n",
    "            if gamma != 2:\n",
    "                svar = np.sum(var_cl, axis=0)\n",
    "                weights = ((gamma - 2.) * svar \n",
    "                            +  gamma /( n_classes - 1) * smeans)\n",
    "            else:\n",
    "                weights = smeans\n",
    "            weights = weights / tnorm\n",
    "            weights[weights < 0] = 0\n",
    "\n",
    "            if distance:\n",
    "                return (weights / np.sqrt(np.sum(weights ** 2)),\n",
    "                        squareform(pdist(X * np.sqrt(weights))))\n",
    "            else:\n",
    "                return weights / np.sqrt(np.sum(weights ** 2))\n",
    "\n",
    "        else:\n",
    "            print (\"error: for t-test normalization the number\" +\n",
    "                   \" of classes must be equal 2\")\n",
    "            return None\n",
    "    else:\n",
    "        print \"error: norm options are None, \\\"unity\\\" and  \\\"t-test\\\"\"\n",
    "    return None"
   ]
  },
  {
   "cell_type": "code",
   "execution_count": 5,
   "metadata": {},
   "outputs": [],
   "source": [
    "#Seed random\n",
    "\n",
    "np.random.seed(seed=101)"
   ]
  },
  {
   "cell_type": "code",
   "execution_count": 6,
   "metadata": {},
   "outputs": [],
   "source": [
    "#Carregar dados \n",
    "\n",
    "if False: \n",
    "\n",
    "    with open('../Sequencias/DadosTreinoFeaturizados', 'rb') as fp:\n",
    "            DadosTreinoFeaturizados = pickle.load(fp)\n",
    "    with open('../Sequencias/DadosTesteFeaturizados', 'rb') as fp:\n",
    "            DadosTesteFeaturizados = pickle.load(fp)\n",
    "\n",
    "if True: \n",
    "\n",
    "    with open('../Sequencias/DadosTreinoCru', 'rb') as fp:\n",
    "            DadosTreinoFeaturizados = pickle.load(fp)\n",
    "    with open('../Sequencias/DadosTesteCru', 'rb') as fp:\n",
    "            DadosTesteFeaturizados = pickle.load(fp)"
   ]
  },
  {
   "cell_type": "code",
   "execution_count": 7,
   "metadata": {},
   "outputs": [
    {
     "name": "stdout",
     "output_type": "stream",
     "text": [
      "(14103, 401)\n",
      "(1568, 401)\n"
     ]
    }
   ],
   "source": [
    "print(DadosTreinoFeaturizados.shape)\n",
    "print(DadosTesteFeaturizados.shape)"
   ]
  },
  {
   "cell_type": "code",
   "execution_count": 8,
   "metadata": {},
   "outputs": [
    {
     "data": {
      "text/html": [
       "<div>\n",
       "<style scoped>\n",
       "    .dataframe tbody tr th:only-of-type {\n",
       "        vertical-align: middle;\n",
       "    }\n",
       "\n",
       "    .dataframe tbody tr th {\n",
       "        vertical-align: top;\n",
       "    }\n",
       "\n",
       "    .dataframe thead th {\n",
       "        text-align: right;\n",
       "    }\n",
       "</style>\n",
       "<table border=\"1\" class=\"dataframe\">\n",
       "  <thead>\n",
       "    <tr style=\"text-align: right;\">\n",
       "      <th></th>\n",
       "      <th>GW</th>\n",
       "      <th>GV</th>\n",
       "      <th>GT</th>\n",
       "      <th>GS</th>\n",
       "      <th>GR</th>\n",
       "      <th>GQ</th>\n",
       "      <th>GP</th>\n",
       "      <th>GY</th>\n",
       "      <th>GG</th>\n",
       "      <th>GF</th>\n",
       "      <th>...</th>\n",
       "      <th>AQ</th>\n",
       "      <th>AP</th>\n",
       "      <th>AS</th>\n",
       "      <th>AR</th>\n",
       "      <th>AT</th>\n",
       "      <th>AW</th>\n",
       "      <th>AV</th>\n",
       "      <th>AY</th>\n",
       "      <th>VK</th>\n",
       "      <th>Classe</th>\n",
       "    </tr>\n",
       "  </thead>\n",
       "  <tbody>\n",
       "    <tr>\n",
       "      <th>0</th>\n",
       "      <td>0.0</td>\n",
       "      <td>5.26</td>\n",
       "      <td>5.26</td>\n",
       "      <td>0.0</td>\n",
       "      <td>0.0</td>\n",
       "      <td>0.0</td>\n",
       "      <td>0.00</td>\n",
       "      <td>0.0</td>\n",
       "      <td>5.26</td>\n",
       "      <td>0.0</td>\n",
       "      <td>...</td>\n",
       "      <td>0.0</td>\n",
       "      <td>0.00</td>\n",
       "      <td>0.0</td>\n",
       "      <td>0.0</td>\n",
       "      <td>0.0</td>\n",
       "      <td>0.0</td>\n",
       "      <td>0.0</td>\n",
       "      <td>5.26</td>\n",
       "      <td>0.0</td>\n",
       "      <td>1.0</td>\n",
       "    </tr>\n",
       "    <tr>\n",
       "      <th>1</th>\n",
       "      <td>0.0</td>\n",
       "      <td>5.26</td>\n",
       "      <td>0.00</td>\n",
       "      <td>0.0</td>\n",
       "      <td>0.0</td>\n",
       "      <td>0.0</td>\n",
       "      <td>0.00</td>\n",
       "      <td>0.0</td>\n",
       "      <td>5.26</td>\n",
       "      <td>0.0</td>\n",
       "      <td>...</td>\n",
       "      <td>0.0</td>\n",
       "      <td>0.00</td>\n",
       "      <td>0.0</td>\n",
       "      <td>0.0</td>\n",
       "      <td>0.0</td>\n",
       "      <td>0.0</td>\n",
       "      <td>0.0</td>\n",
       "      <td>0.00</td>\n",
       "      <td>0.0</td>\n",
       "      <td>1.0</td>\n",
       "    </tr>\n",
       "    <tr>\n",
       "      <th>2</th>\n",
       "      <td>0.0</td>\n",
       "      <td>0.00</td>\n",
       "      <td>0.00</td>\n",
       "      <td>0.0</td>\n",
       "      <td>0.0</td>\n",
       "      <td>0.0</td>\n",
       "      <td>5.26</td>\n",
       "      <td>0.0</td>\n",
       "      <td>0.00</td>\n",
       "      <td>0.0</td>\n",
       "      <td>...</td>\n",
       "      <td>0.0</td>\n",
       "      <td>5.26</td>\n",
       "      <td>0.0</td>\n",
       "      <td>0.0</td>\n",
       "      <td>0.0</td>\n",
       "      <td>0.0</td>\n",
       "      <td>0.0</td>\n",
       "      <td>0.00</td>\n",
       "      <td>0.0</td>\n",
       "      <td>1.0</td>\n",
       "    </tr>\n",
       "  </tbody>\n",
       "</table>\n",
       "<p>3 rows × 401 columns</p>\n",
       "</div>"
      ],
      "text/plain": [
       "    GW    GV    GT   GS   GR   GQ    GP   GY    GG   GF  ...   AQ    AP   AS  \\\n",
       "0  0.0  5.26  5.26  0.0  0.0  0.0  0.00  0.0  5.26  0.0  ...  0.0  0.00  0.0   \n",
       "1  0.0  5.26  0.00  0.0  0.0  0.0  0.00  0.0  5.26  0.0  ...  0.0  0.00  0.0   \n",
       "2  0.0  0.00  0.00  0.0  0.0  0.0  5.26  0.0  0.00  0.0  ...  0.0  5.26  0.0   \n",
       "\n",
       "    AR   AT   AW   AV    AY   VK  Classe  \n",
       "0  0.0  0.0  0.0  0.0  5.26  0.0     1.0  \n",
       "1  0.0  0.0  0.0  0.0  0.00  0.0     1.0  \n",
       "2  0.0  0.0  0.0  0.0  0.00  0.0     1.0  \n",
       "\n",
       "[3 rows x 401 columns]"
      ]
     },
     "execution_count": 8,
     "metadata": {},
     "output_type": "execute_result"
    }
   ],
   "source": [
    "DadosTreinoFeaturizados.head(n=3)"
   ]
  },
  {
   "cell_type": "code",
   "execution_count": 9,
   "metadata": {},
   "outputs": [
    {
     "data": {
      "text/html": [
       "<div>\n",
       "<style scoped>\n",
       "    .dataframe tbody tr th:only-of-type {\n",
       "        vertical-align: middle;\n",
       "    }\n",
       "\n",
       "    .dataframe tbody tr th {\n",
       "        vertical-align: top;\n",
       "    }\n",
       "\n",
       "    .dataframe thead th {\n",
       "        text-align: right;\n",
       "    }\n",
       "</style>\n",
       "<table border=\"1\" class=\"dataframe\">\n",
       "  <thead>\n",
       "    <tr style=\"text-align: right;\">\n",
       "      <th></th>\n",
       "      <th>GW</th>\n",
       "      <th>GV</th>\n",
       "      <th>GT</th>\n",
       "      <th>GS</th>\n",
       "      <th>GR</th>\n",
       "      <th>GQ</th>\n",
       "      <th>GP</th>\n",
       "      <th>GY</th>\n",
       "      <th>GG</th>\n",
       "      <th>GF</th>\n",
       "      <th>...</th>\n",
       "      <th>AQ</th>\n",
       "      <th>AP</th>\n",
       "      <th>AS</th>\n",
       "      <th>AR</th>\n",
       "      <th>AT</th>\n",
       "      <th>AW</th>\n",
       "      <th>AV</th>\n",
       "      <th>AY</th>\n",
       "      <th>VK</th>\n",
       "      <th>Classe</th>\n",
       "    </tr>\n",
       "  </thead>\n",
       "  <tbody>\n",
       "    <tr>\n",
       "      <th>0</th>\n",
       "      <td>0.0</td>\n",
       "      <td>0.00</td>\n",
       "      <td>0.0</td>\n",
       "      <td>0.0</td>\n",
       "      <td>0.0</td>\n",
       "      <td>5.26</td>\n",
       "      <td>0.0</td>\n",
       "      <td>0.0</td>\n",
       "      <td>5.26</td>\n",
       "      <td>0.0</td>\n",
       "      <td>...</td>\n",
       "      <td>0.0</td>\n",
       "      <td>0.0</td>\n",
       "      <td>0.0</td>\n",
       "      <td>0.00</td>\n",
       "      <td>0.0</td>\n",
       "      <td>0.0</td>\n",
       "      <td>0.0</td>\n",
       "      <td>0.0</td>\n",
       "      <td>0.0</td>\n",
       "      <td>-1.0</td>\n",
       "    </tr>\n",
       "    <tr>\n",
       "      <th>1</th>\n",
       "      <td>0.0</td>\n",
       "      <td>5.26</td>\n",
       "      <td>0.0</td>\n",
       "      <td>0.0</td>\n",
       "      <td>0.0</td>\n",
       "      <td>0.00</td>\n",
       "      <td>0.0</td>\n",
       "      <td>0.0</td>\n",
       "      <td>5.26</td>\n",
       "      <td>0.0</td>\n",
       "      <td>...</td>\n",
       "      <td>0.0</td>\n",
       "      <td>0.0</td>\n",
       "      <td>0.0</td>\n",
       "      <td>5.26</td>\n",
       "      <td>0.0</td>\n",
       "      <td>0.0</td>\n",
       "      <td>0.0</td>\n",
       "      <td>0.0</td>\n",
       "      <td>0.0</td>\n",
       "      <td>-1.0</td>\n",
       "    </tr>\n",
       "    <tr>\n",
       "      <th>2</th>\n",
       "      <td>0.0</td>\n",
       "      <td>0.00</td>\n",
       "      <td>0.0</td>\n",
       "      <td>0.0</td>\n",
       "      <td>0.0</td>\n",
       "      <td>0.00</td>\n",
       "      <td>0.0</td>\n",
       "      <td>0.0</td>\n",
       "      <td>0.00</td>\n",
       "      <td>0.0</td>\n",
       "      <td>...</td>\n",
       "      <td>0.0</td>\n",
       "      <td>0.0</td>\n",
       "      <td>0.0</td>\n",
       "      <td>0.00</td>\n",
       "      <td>0.0</td>\n",
       "      <td>0.0</td>\n",
       "      <td>0.0</td>\n",
       "      <td>0.0</td>\n",
       "      <td>0.0</td>\n",
       "      <td>-1.0</td>\n",
       "    </tr>\n",
       "  </tbody>\n",
       "</table>\n",
       "<p>3 rows × 401 columns</p>\n",
       "</div>"
      ],
      "text/plain": [
       "    GW    GV   GT   GS   GR    GQ   GP   GY    GG   GF  ...   AQ   AP   AS  \\\n",
       "0  0.0  0.00  0.0  0.0  0.0  5.26  0.0  0.0  5.26  0.0  ...  0.0  0.0  0.0   \n",
       "1  0.0  5.26  0.0  0.0  0.0  0.00  0.0  0.0  5.26  0.0  ...  0.0  0.0  0.0   \n",
       "2  0.0  0.00  0.0  0.0  0.0  0.00  0.0  0.0  0.00  0.0  ...  0.0  0.0  0.0   \n",
       "\n",
       "     AR   AT   AW   AV   AY   VK  Classe  \n",
       "0  0.00  0.0  0.0  0.0  0.0  0.0    -1.0  \n",
       "1  5.26  0.0  0.0  0.0  0.0  0.0    -1.0  \n",
       "2  0.00  0.0  0.0  0.0  0.0  0.0    -1.0  \n",
       "\n",
       "[3 rows x 401 columns]"
      ]
     },
     "execution_count": 9,
     "metadata": {},
     "output_type": "execute_result"
    }
   ],
   "source": [
    "DadosTesteFeaturizados.head(n=3)"
   ]
  },
  {
   "cell_type": "markdown",
   "metadata": {},
   "source": [
    "# Run "
   ]
  },
  {
   "cell_type": "code",
   "execution_count": 10,
   "metadata": {},
   "outputs": [],
   "source": [
    "#se aumentar o krange os variâncias diminuem?"
   ]
  },
  {
   "cell_type": "code",
   "execution_count": 11,
   "metadata": {},
   "outputs": [],
   "source": [
    "krange = 5\n",
    "kfeature = DadosTreinoFeaturizados.shape[1]-1\n",
    "\n",
    "ws = np.zeros((kfeature, krange))\n",
    "\n",
    "for i in range(krange):\n",
    "    \n",
    "    y = np.array(DadosTreinoFeaturizados['Classe'])           \n",
    "\n",
    "    X = np.array(DadosTreinoFeaturizados.drop(['Classe'], 1))\n",
    "\n",
    "    X_treino, X_teste, y_treino, y_teste = train_test_split(X, y, test_size=0.2)\n",
    "    X_treino_efetivo = np.copy(X_treino)\n",
    "\n",
    "    #Normalização e featurização\n",
    "\n",
    "    normalizar = True\n",
    "    usarsuvrel = True\n",
    "\n",
    "    if normalizar:\n",
    "\n",
    "        scaler = StandardScaler()\n",
    "        X_treino = scaler.fit(X_treino).transform(X_treino)\n",
    "        #X_treino_efetivo = scaler.transform(X_treino_efetivo)\n",
    "\n",
    "    if usarsuvrel: \n",
    "\n",
    "        w = suvrel(X=X_treino, y=y_treino)\n",
    "        w = np.sqrt(w)\n",
    "\n",
    "        X_treino_efetivo = w*X_treino_efetivo\n",
    "\n",
    "    ws[:,i] = w"
   ]
  },
  {
   "cell_type": "code",
   "execution_count": 12,
   "metadata": {},
   "outputs": [
    {
     "data": {
      "text/plain": [
       "0.12717263116346755"
      ]
     },
     "execution_count": 12,
     "metadata": {},
     "output_type": "execute_result"
    }
   ],
   "source": [
    "entropy(ws[:, 1], qk=ws[:, 0], base=None)"
   ]
  },
  {
   "cell_type": "code",
   "execution_count": 13,
   "metadata": {},
   "outputs": [],
   "source": [
    "wsliststd = ws.std(axis=1)"
   ]
  },
  {
   "cell_type": "code",
   "execution_count": 14,
   "metadata": {},
   "outputs": [
    {
     "data": {
      "text/plain": [
       "(400,)"
      ]
     },
     "execution_count": 14,
     "metadata": {},
     "output_type": "execute_result"
    }
   ],
   "source": [
    "ws[:, 0].shape"
   ]
  },
  {
   "cell_type": "code",
   "execution_count": 16,
   "metadata": {},
   "outputs": [
    {
     "data": {
      "image/png": "[encoded data removed]",
      "text/plain": [
       "<matplotlib.figure.Figure at 0x7ff48a44dbd0>"
      ]
     },
     "metadata": {
      "needs_background": "light"
     },
     "output_type": "display_data"
    }
   ],
   "source": [
    "plt.hist(ws[:, 0], bins=300)  # arguments are passed to np.histogram\n",
    "plt.title(\"Histograma dos pesos\")\n",
    "plt.show()"
   ]
  },
  {
   "cell_type": "code",
   "execution_count": 17,
   "metadata": {},
   "outputs": [
    {
     "data": {
      "image/png": "[encoded data removed]",
      "text/plain": [
       "<matplotlib.figure.Figure at 0x7ff480fa6d50>"
      ]
     },
     "metadata": {
      "needs_background": "light"
     },
     "output_type": "display_data"
    }
   ],
   "source": [
    "plt.hist(ws[:, 1], bins=300)  # arguments are passed to np.histogram\n",
    "plt.title(\"Histograma dos pesos\")\n",
    "plt.show()"
   ]
  },
  {
   "cell_type": "code",
   "execution_count": 18,
   "metadata": {},
   "outputs": [
    {
     "data": {
      "image/png": "[encoded data removed]",
      "text/plain": [
       "<matplotlib.figure.Figure at 0x7ff480eeb750>"
      ]
     },
     "metadata": {
      "needs_background": "light"
     },
     "output_type": "display_data"
    }
   ],
   "source": [
    "plt.hist(ws[:,2], bins=300)  # arguments are passed to np.histogram\n",
    "plt.title(\"Histograma dos pesos\")\n",
    "plt.show()"
   ]
  },
  {
   "cell_type": "code",
   "execution_count": 19,
   "metadata": {},
   "outputs": [
    {
     "data": {
      "image/png": "[encoded data removed]",
      "text/plain": [
       "<matplotlib.figure.Figure at 0x7ff480ef7490>"
      ]
     },
     "metadata": {
      "needs_background": "light"
     },
     "output_type": "display_data"
    }
   ],
   "source": [
    "plt.hist(ws[:,3], bins=300)  # arguments are passed to np.histogram\n",
    "plt.title(\"Histograma dos pesos\")\n",
    "plt.show()"
   ]
  },
  {
   "cell_type": "code",
   "execution_count": 20,
   "metadata": {},
   "outputs": [
    {
     "data": {
      "image/png": "[encoded data removed]",
      "text/plain": [
       "<matplotlib.figure.Figure at 0x7ff480eaf090>"
      ]
     },
     "metadata": {
      "needs_background": "light"
     },
     "output_type": "display_data"
    }
   ],
   "source": [
    "plt.hist(ws[:,4], bins=300)  # arguments are passed to np.histogram\n",
    "plt.title(\"Histograma dos pesos\")\n",
    "plt.show()"
   ]
  },
  {
   "cell_type": "code",
   "execution_count": 21,
   "metadata": {},
   "outputs": [
    {
     "data": {
      "text/plain": [
       "1.0"
      ]
     },
     "execution_count": 21,
     "metadata": {},
     "output_type": "execute_result"
    }
   ],
   "source": [
    "np.sum(ws[:,4]**4)"
   ]
  },
  {
   "cell_type": "code",
   "execution_count": 22,
   "metadata": {},
   "outputs": [
    {
     "data": {
      "text/plain": [
       "(400, 5)"
      ]
     },
     "execution_count": 22,
     "metadata": {},
     "output_type": "execute_result"
    }
   ],
   "source": [
    "ws.shape"
   ]
  },
  {
   "cell_type": "code",
   "execution_count": 23,
   "metadata": {},
   "outputs": [],
   "source": [
    "wsdf = pd.DataFrame(data=ws, index=(DadosTreinoFeaturizados.drop(['Classe'], 1)).columns, \n",
    "                   columns = [\"s1\", \"s2\", \"s3\", \"s4\", \"s5\"])"
   ]
  },
  {
   "cell_type": "code",
   "execution_count": 24,
   "metadata": {},
   "outputs": [
    {
     "data": {
      "text/html": [
       "<div>\n",
       "<style scoped>\n",
       "    .dataframe tbody tr th:only-of-type {\n",
       "        vertical-align: middle;\n",
       "    }\n",
       "\n",
       "    .dataframe tbody tr th {\n",
       "        vertical-align: top;\n",
       "    }\n",
       "\n",
       "    .dataframe thead th {\n",
       "        text-align: right;\n",
       "    }\n",
       "</style>\n",
       "<table border=\"1\" class=\"dataframe\">\n",
       "  <thead>\n",
       "    <tr style=\"text-align: right;\">\n",
       "      <th></th>\n",
       "      <th>s1</th>\n",
       "      <th>s2</th>\n",
       "      <th>s3</th>\n",
       "      <th>s4</th>\n",
       "      <th>s5</th>\n",
       "    </tr>\n",
       "  </thead>\n",
       "  <tbody>\n",
       "    <tr>\n",
       "      <th>GW</th>\n",
       "      <td>0.039338</td>\n",
       "      <td>0.109821</td>\n",
       "      <td>0.014286</td>\n",
       "      <td>0.039092</td>\n",
       "      <td>0.176779</td>\n",
       "    </tr>\n",
       "    <tr>\n",
       "      <th>GV</th>\n",
       "      <td>0.230939</td>\n",
       "      <td>0.174309</td>\n",
       "      <td>0.221872</td>\n",
       "      <td>0.183414</td>\n",
       "      <td>0.210086</td>\n",
       "    </tr>\n",
       "    <tr>\n",
       "      <th>GT</th>\n",
       "      <td>0.017154</td>\n",
       "      <td>0.019296</td>\n",
       "      <td>0.033177</td>\n",
       "      <td>0.000774</td>\n",
       "      <td>0.023586</td>\n",
       "    </tr>\n",
       "    <tr>\n",
       "      <th>GS</th>\n",
       "      <td>0.052578</td>\n",
       "      <td>0.071274</td>\n",
       "      <td>0.022760</td>\n",
       "      <td>0.051230</td>\n",
       "      <td>0.008043</td>\n",
       "    </tr>\n",
       "    <tr>\n",
       "      <th>GR</th>\n",
       "      <td>0.015318</td>\n",
       "      <td>0.044871</td>\n",
       "      <td>0.035780</td>\n",
       "      <td>0.075125</td>\n",
       "      <td>0.036215</td>\n",
       "    </tr>\n",
       "  </tbody>\n",
       "</table>\n",
       "</div>"
      ],
      "text/plain": [
       "          s1        s2        s3        s4        s5\n",
       "GW  0.039338  0.109821  0.014286  0.039092  0.176779\n",
       "GV  0.230939  0.174309  0.221872  0.183414  0.210086\n",
       "GT  0.017154  0.019296  0.033177  0.000774  0.023586\n",
       "GS  0.052578  0.071274  0.022760  0.051230  0.008043\n",
       "GR  0.015318  0.044871  0.035780  0.075125  0.036215"
      ]
     },
     "execution_count": 24,
     "metadata": {},
     "output_type": "execute_result"
    }
   ],
   "source": [
    "wsdf.head()"
   ]
  },
  {
   "cell_type": "code",
   "execution_count": 25,
   "metadata": {},
   "outputs": [
    {
     "data": {
      "text/html": [
       "<div>\n",
       "<style scoped>\n",
       "    .dataframe tbody tr th:only-of-type {\n",
       "        vertical-align: middle;\n",
       "    }\n",
       "\n",
       "    .dataframe tbody tr th {\n",
       "        vertical-align: top;\n",
       "    }\n",
       "\n",
       "    .dataframe thead th {\n",
       "        text-align: right;\n",
       "    }\n",
       "</style>\n",
       "<table border=\"1\" class=\"dataframe\">\n",
       "  <thead>\n",
       "    <tr style=\"text-align: right;\">\n",
       "      <th></th>\n",
       "      <th>s1</th>\n",
       "      <th>s2</th>\n",
       "      <th>s3</th>\n",
       "      <th>s4</th>\n",
       "      <th>s5</th>\n",
       "    </tr>\n",
       "  </thead>\n",
       "  <tbody>\n",
       "    <tr>\n",
       "      <th>QQ</th>\n",
       "      <td>0.592985</td>\n",
       "      <td>0.583799</td>\n",
       "      <td>0.606721</td>\n",
       "      <td>0.622498</td>\n",
       "      <td>0.582474</td>\n",
       "    </tr>\n",
       "    <tr>\n",
       "      <th>QP</th>\n",
       "      <td>0.557212</td>\n",
       "      <td>0.609031</td>\n",
       "      <td>0.538799</td>\n",
       "      <td>0.541749</td>\n",
       "      <td>0.566781</td>\n",
       "    </tr>\n",
       "    <tr>\n",
       "      <th>PQ</th>\n",
       "      <td>0.562354</td>\n",
       "      <td>0.511759</td>\n",
       "      <td>0.585591</td>\n",
       "      <td>0.506896</td>\n",
       "      <td>0.504521</td>\n",
       "    </tr>\n",
       "  </tbody>\n",
       "</table>\n",
       "</div>"
      ],
      "text/plain": [
       "          s1        s2        s3        s4        s5\n",
       "QQ  0.592985  0.583799  0.606721  0.622498  0.582474\n",
       "QP  0.557212  0.609031  0.538799  0.541749  0.566781\n",
       "PQ  0.562354  0.511759  0.585591  0.506896  0.504521"
      ]
     },
     "execution_count": 25,
     "metadata": {},
     "output_type": "execute_result"
    }
   ],
   "source": [
    "wsdf.iloc[np.where(wsdf['s1'] > 0.5)]"
   ]
  },
  {
   "cell_type": "code",
   "execution_count": 26,
   "metadata": {},
   "outputs": [
    {
     "data": {
      "text/html": [
       "<div>\n",
       "<style scoped>\n",
       "    .dataframe tbody tr th:only-of-type {\n",
       "        vertical-align: middle;\n",
       "    }\n",
       "\n",
       "    .dataframe tbody tr th {\n",
       "        vertical-align: top;\n",
       "    }\n",
       "\n",
       "    .dataframe thead th {\n",
       "        text-align: right;\n",
       "    }\n",
       "</style>\n",
       "<table border=\"1\" class=\"dataframe\">\n",
       "  <thead>\n",
       "    <tr style=\"text-align: right;\">\n",
       "      <th></th>\n",
       "      <th>s1</th>\n",
       "      <th>s2</th>\n",
       "      <th>s3</th>\n",
       "      <th>s4</th>\n",
       "      <th>s5</th>\n",
       "    </tr>\n",
       "  </thead>\n",
       "  <tbody>\n",
       "    <tr>\n",
       "      <th>QQ</th>\n",
       "      <td>0.592985</td>\n",
       "      <td>0.583799</td>\n",
       "      <td>0.606721</td>\n",
       "      <td>0.622498</td>\n",
       "      <td>0.582474</td>\n",
       "    </tr>\n",
       "    <tr>\n",
       "      <th>QP</th>\n",
       "      <td>0.557212</td>\n",
       "      <td>0.609031</td>\n",
       "      <td>0.538799</td>\n",
       "      <td>0.541749</td>\n",
       "      <td>0.566781</td>\n",
       "    </tr>\n",
       "    <tr>\n",
       "      <th>PQ</th>\n",
       "      <td>0.562354</td>\n",
       "      <td>0.511759</td>\n",
       "      <td>0.585591</td>\n",
       "      <td>0.506896</td>\n",
       "      <td>0.504521</td>\n",
       "    </tr>\n",
       "  </tbody>\n",
       "</table>\n",
       "</div>"
      ],
      "text/plain": [
       "          s1        s2        s3        s4        s5\n",
       "QQ  0.592985  0.583799  0.606721  0.622498  0.582474\n",
       "QP  0.557212  0.609031  0.538799  0.541749  0.566781\n",
       "PQ  0.562354  0.511759  0.585591  0.506896  0.504521"
      ]
     },
     "execution_count": 26,
     "metadata": {},
     "output_type": "execute_result"
    }
   ],
   "source": [
    "wsdf.iloc[np.where(wsdf['s2'] > 0.5)]"
   ]
  },
  {
   "cell_type": "code",
   "execution_count": 27,
   "metadata": {},
   "outputs": [
    {
     "data": {
      "text/html": [
       "<div>\n",
       "<style scoped>\n",
       "    .dataframe tbody tr th:only-of-type {\n",
       "        vertical-align: middle;\n",
       "    }\n",
       "\n",
       "    .dataframe tbody tr th {\n",
       "        vertical-align: top;\n",
       "    }\n",
       "\n",
       "    .dataframe thead th {\n",
       "        text-align: right;\n",
       "    }\n",
       "</style>\n",
       "<table border=\"1\" class=\"dataframe\">\n",
       "  <thead>\n",
       "    <tr style=\"text-align: right;\">\n",
       "      <th></th>\n",
       "      <th>s1</th>\n",
       "      <th>s2</th>\n",
       "      <th>s3</th>\n",
       "      <th>s4</th>\n",
       "      <th>s5</th>\n",
       "    </tr>\n",
       "  </thead>\n",
       "  <tbody>\n",
       "    <tr>\n",
       "      <th>QQ</th>\n",
       "      <td>0.592985</td>\n",
       "      <td>0.583799</td>\n",
       "      <td>0.606721</td>\n",
       "      <td>0.622498</td>\n",
       "      <td>0.582474</td>\n",
       "    </tr>\n",
       "    <tr>\n",
       "      <th>QP</th>\n",
       "      <td>0.557212</td>\n",
       "      <td>0.609031</td>\n",
       "      <td>0.538799</td>\n",
       "      <td>0.541749</td>\n",
       "      <td>0.566781</td>\n",
       "    </tr>\n",
       "    <tr>\n",
       "      <th>PQ</th>\n",
       "      <td>0.562354</td>\n",
       "      <td>0.511759</td>\n",
       "      <td>0.585591</td>\n",
       "      <td>0.506896</td>\n",
       "      <td>0.504521</td>\n",
       "    </tr>\n",
       "  </tbody>\n",
       "</table>\n",
       "</div>"
      ],
      "text/plain": [
       "          s1        s2        s3        s4        s5\n",
       "QQ  0.592985  0.583799  0.606721  0.622498  0.582474\n",
       "QP  0.557212  0.609031  0.538799  0.541749  0.566781\n",
       "PQ  0.562354  0.511759  0.585591  0.506896  0.504521"
      ]
     },
     "execution_count": 27,
     "metadata": {},
     "output_type": "execute_result"
    }
   ],
   "source": [
    "wsdf.iloc[np.where(wsdf['s3'] > 0.5)]"
   ]
  },
  {
   "cell_type": "code",
   "execution_count": 28,
   "metadata": {},
   "outputs": [
    {
     "data": {
      "text/html": [
       "<div>\n",
       "<style scoped>\n",
       "    .dataframe tbody tr th:only-of-type {\n",
       "        vertical-align: middle;\n",
       "    }\n",
       "\n",
       "    .dataframe tbody tr th {\n",
       "        vertical-align: top;\n",
       "    }\n",
       "\n",
       "    .dataframe thead th {\n",
       "        text-align: right;\n",
       "    }\n",
       "</style>\n",
       "<table border=\"1\" class=\"dataframe\">\n",
       "  <thead>\n",
       "    <tr style=\"text-align: right;\">\n",
       "      <th></th>\n",
       "      <th>s1</th>\n",
       "      <th>s2</th>\n",
       "      <th>s3</th>\n",
       "      <th>s4</th>\n",
       "      <th>s5</th>\n",
       "    </tr>\n",
       "  </thead>\n",
       "  <tbody>\n",
       "    <tr>\n",
       "      <th>QQ</th>\n",
       "      <td>0.592985</td>\n",
       "      <td>0.583799</td>\n",
       "      <td>0.606721</td>\n",
       "      <td>0.622498</td>\n",
       "      <td>0.582474</td>\n",
       "    </tr>\n",
       "    <tr>\n",
       "      <th>QP</th>\n",
       "      <td>0.557212</td>\n",
       "      <td>0.609031</td>\n",
       "      <td>0.538799</td>\n",
       "      <td>0.541749</td>\n",
       "      <td>0.566781</td>\n",
       "    </tr>\n",
       "    <tr>\n",
       "      <th>PQ</th>\n",
       "      <td>0.562354</td>\n",
       "      <td>0.511759</td>\n",
       "      <td>0.585591</td>\n",
       "      <td>0.506896</td>\n",
       "      <td>0.504521</td>\n",
       "    </tr>\n",
       "  </tbody>\n",
       "</table>\n",
       "</div>"
      ],
      "text/plain": [
       "          s1        s2        s3        s4        s5\n",
       "QQ  0.592985  0.583799  0.606721  0.622498  0.582474\n",
       "QP  0.557212  0.609031  0.538799  0.541749  0.566781\n",
       "PQ  0.562354  0.511759  0.585591  0.506896  0.504521"
      ]
     },
     "execution_count": 28,
     "metadata": {},
     "output_type": "execute_result"
    }
   ],
   "source": [
    "wsdf.iloc[np.where(wsdf['s4'] > 0.5)]"
   ]
  },
  {
   "cell_type": "code",
   "execution_count": 29,
   "metadata": {},
   "outputs": [
    {
     "data": {
      "text/html": [
       "<div>\n",
       "<style scoped>\n",
       "    .dataframe tbody tr th:only-of-type {\n",
       "        vertical-align: middle;\n",
       "    }\n",
       "\n",
       "    .dataframe tbody tr th {\n",
       "        vertical-align: top;\n",
       "    }\n",
       "\n",
       "    .dataframe thead th {\n",
       "        text-align: right;\n",
       "    }\n",
       "</style>\n",
       "<table border=\"1\" class=\"dataframe\">\n",
       "  <thead>\n",
       "    <tr style=\"text-align: right;\">\n",
       "      <th></th>\n",
       "      <th>s1</th>\n",
       "      <th>s2</th>\n",
       "      <th>s3</th>\n",
       "      <th>s4</th>\n",
       "      <th>s5</th>\n",
       "    </tr>\n",
       "  </thead>\n",
       "  <tbody>\n",
       "    <tr>\n",
       "      <th>QQ</th>\n",
       "      <td>0.592985</td>\n",
       "      <td>0.583799</td>\n",
       "      <td>0.606721</td>\n",
       "      <td>0.622498</td>\n",
       "      <td>0.582474</td>\n",
       "    </tr>\n",
       "    <tr>\n",
       "      <th>QP</th>\n",
       "      <td>0.557212</td>\n",
       "      <td>0.609031</td>\n",
       "      <td>0.538799</td>\n",
       "      <td>0.541749</td>\n",
       "      <td>0.566781</td>\n",
       "    </tr>\n",
       "    <tr>\n",
       "      <th>PQ</th>\n",
       "      <td>0.562354</td>\n",
       "      <td>0.511759</td>\n",
       "      <td>0.585591</td>\n",
       "      <td>0.506896</td>\n",
       "      <td>0.504521</td>\n",
       "    </tr>\n",
       "  </tbody>\n",
       "</table>\n",
       "</div>"
      ],
      "text/plain": [
       "          s1        s2        s3        s4        s5\n",
       "QQ  0.592985  0.583799  0.606721  0.622498  0.582474\n",
       "QP  0.557212  0.609031  0.538799  0.541749  0.566781\n",
       "PQ  0.562354  0.511759  0.585591  0.506896  0.504521"
      ]
     },
     "execution_count": 29,
     "metadata": {},
     "output_type": "execute_result"
    }
   ],
   "source": [
    "wsdf.iloc[np.where(wsdf['s5'] > 0.5)]"
   ]
  },
  {
   "cell_type": "code",
   "execution_count": 30,
   "metadata": {},
   "outputs": [],
   "source": [
    "#x = DadosTreinoFeaturizados[['QQ', 'Classe']]"
   ]
  },
  {
   "cell_type": "code",
   "execution_count": 31,
   "metadata": {},
   "outputs": [],
   "source": [
    "labels = np.array(DadosTreinoFeaturizados['Classe'])\n",
    "kpositivos = np.sum(labels==1)\n",
    "knegativos = np.sum(labels==-1)"
   ]
  },
  {
   "cell_type": "code",
   "execution_count": 32,
   "metadata": {},
   "outputs": [
    {
     "data": {
      "text/plain": [
       "14103"
      ]
     },
     "execution_count": 32,
     "metadata": {},
     "output_type": "execute_result"
    }
   ],
   "source": [
    "kpositivos + knegativos"
   ]
  },
  {
   "cell_type": "code",
   "execution_count": 33,
   "metadata": {},
   "outputs": [
    {
     "data": {
      "text/plain": [
       "(14103, 401)"
      ]
     },
     "execution_count": 33,
     "metadata": {},
     "output_type": "execute_result"
    }
   ],
   "source": [
    "DadosTreinoFeaturizados.shape"
   ]
  },
  {
   "cell_type": "code",
   "execution_count": 41,
   "metadata": {},
   "outputs": [],
   "source": [
    "x = np.array(DadosTreinoFeaturizados['PQ'])"
   ]
  },
  {
   "cell_type": "code",
   "execution_count": 42,
   "metadata": {},
   "outputs": [],
   "source": [
    "y = np.array(DadosTreinoFeaturizados['Classe'])"
   ]
  },
  {
   "cell_type": "code",
   "execution_count": 43,
   "metadata": {},
   "outputs": [
    {
     "data": {
      "image/png": "[encoded data removed]",
      "text/plain": [
       "<matplotlib.figure.Figure at 0x7ff48063e510>"
      ]
     },
     "metadata": {
      "needs_background": "light"
     },
     "output_type": "display_data"
    }
   ],
   "source": [
    "import matplotlib.pyplot as plt\n",
    "\n",
    "color_array = ['black'] * kpositivos + ['r'] * knegativos\n",
    "plt.scatter(x, y, marker='.', c=color_array)\n",
    "\n",
    "plt.xlabel('medida1', fontsize=16)\n",
    "plt.ylabel('medida2', fontsize=16)\n",
    "plt.title('grouped scatter plot', fontsize=20)\n",
    "#plt.xlim(5.2595+0.00045, 5.2605-0.0005)\n",
    "#plt.savefig(\"test.eps\", format=\"eps\")\n",
    "plt.show()"
   ]
  },
  {
   "cell_type": "code",
   "execution_count": 82,
   "metadata": {},
   "outputs": [],
   "source": [
    "wsdf.to_csv(\"Pesos\", sep=',')"
   ]
  }
 ],
 "metadata": {
  "kernelspec": {
   "display_name": "Python 2",
   "language": "python",
   "name": "python2"
  },
  "language_info": {
   "codemirror_mode": {
    "name": "ipython",
    "version": 2
   },
   "file_extension": ".py",
   "mimetype": "text/x-python",
   "name": "python",
   "nbconvert_exporter": "python",
   "pygments_lexer": "ipython2",
   "version": "2.7.15rc1"
  }
 },
 "nbformat": 4,
 "nbformat_minor": 2
}

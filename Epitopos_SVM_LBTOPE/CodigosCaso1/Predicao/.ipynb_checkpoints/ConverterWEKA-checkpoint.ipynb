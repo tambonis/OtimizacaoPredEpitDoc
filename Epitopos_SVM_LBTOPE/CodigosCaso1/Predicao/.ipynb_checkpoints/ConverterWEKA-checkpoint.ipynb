{
 "cells": [
  {
   "cell_type": "code",
   "execution_count": 1,
   "metadata": {},
   "outputs": [],
   "source": [
    "########################################################################################################\n",
    "#Tiago Tambonis - 2017 - 2018 - 2019 \n",
    "#Objetivo: converter dataframe para WEKA\n",
    "########################################################################################################"
   ]
  },
  {
   "cell_type": "code",
   "execution_count": 3,
   "metadata": {},
   "outputs": [],
   "source": [
    "import pickle \n",
    "import arff"
   ]
  },
  {
   "cell_type": "code",
   "execution_count": 5,
   "metadata": {},
   "outputs": [],
   "source": [
    "#Carregar dados \n",
    "\n",
    "if False: \n",
    "\n",
    "    with open('../Sequencias/DadosTreinoFeaturizados', 'rb') as fp:\n",
    "            DadosTreinoFeaturizados = pickle.load(fp)\n",
    "    #with open('../Sequencias/DadosTesteFeaturizados', 'rb') as fp:\n",
    "    #        DadosTesteFeaturizados = pickle.load(fp)\n",
    "\n",
    "if True: \n",
    "\n",
    "    with open('../Sequencias/DadosTreinoCru', 'rb') as fp:\n",
    "            DadosTreinoFeaturizados = pickle.load(fp)\n",
    "    #with open('../Sequencias/DadosTesteCru', 'rb') as fp:\n",
    "    #        DadosTesteFeaturizados = pickle.load(fp)"
   ]
  },
  {
   "cell_type": "code",
   "execution_count": 7,
   "metadata": {},
   "outputs": [
    {
     "name": "stdout",
     "output_type": "stream",
     "text": [
      "(14103, 401)\n"
     ]
    }
   ],
   "source": [
    "print(DadosTreinoFeaturizados.shape)\n",
    "#print(DadosTesteFeaturizados.shape)"
   ]
  },
  {
   "cell_type": "code",
   "execution_count": 8,
   "metadata": {},
   "outputs": [
    {
     "data": {
      "text/html": [
       "<div>\n",
       "<style scoped>\n",
       "    .dataframe tbody tr th:only-of-type {\n",
       "        vertical-align: middle;\n",
       "    }\n",
       "\n",
       "    .dataframe tbody tr th {\n",
       "        vertical-align: top;\n",
       "    }\n",
       "\n",
       "    .dataframe thead th {\n",
       "        text-align: right;\n",
       "    }\n",
       "</style>\n",
       "<table border=\"1\" class=\"dataframe\">\n",
       "  <thead>\n",
       "    <tr style=\"text-align: right;\">\n",
       "      <th></th>\n",
       "      <th>GW</th>\n",
       "      <th>GV</th>\n",
       "      <th>GT</th>\n",
       "      <th>GS</th>\n",
       "      <th>GR</th>\n",
       "      <th>GQ</th>\n",
       "      <th>GP</th>\n",
       "      <th>GY</th>\n",
       "      <th>GG</th>\n",
       "      <th>GF</th>\n",
       "      <th>...</th>\n",
       "      <th>AQ</th>\n",
       "      <th>AP</th>\n",
       "      <th>AS</th>\n",
       "      <th>AR</th>\n",
       "      <th>AT</th>\n",
       "      <th>AW</th>\n",
       "      <th>AV</th>\n",
       "      <th>AY</th>\n",
       "      <th>VK</th>\n",
       "      <th>Classe</th>\n",
       "    </tr>\n",
       "  </thead>\n",
       "  <tbody>\n",
       "    <tr>\n",
       "      <th>0</th>\n",
       "      <td>0.0</td>\n",
       "      <td>5.26</td>\n",
       "      <td>5.26</td>\n",
       "      <td>0.0</td>\n",
       "      <td>0.0</td>\n",
       "      <td>0.0</td>\n",
       "      <td>0.00</td>\n",
       "      <td>0.0</td>\n",
       "      <td>5.26</td>\n",
       "      <td>0.0</td>\n",
       "      <td>...</td>\n",
       "      <td>0.0</td>\n",
       "      <td>0.00</td>\n",
       "      <td>0.0</td>\n",
       "      <td>0.0</td>\n",
       "      <td>0.0</td>\n",
       "      <td>0.0</td>\n",
       "      <td>0.0</td>\n",
       "      <td>5.26</td>\n",
       "      <td>0.0</td>\n",
       "      <td>1.0</td>\n",
       "    </tr>\n",
       "    <tr>\n",
       "      <th>1</th>\n",
       "      <td>0.0</td>\n",
       "      <td>5.26</td>\n",
       "      <td>0.00</td>\n",
       "      <td>0.0</td>\n",
       "      <td>0.0</td>\n",
       "      <td>0.0</td>\n",
       "      <td>0.00</td>\n",
       "      <td>0.0</td>\n",
       "      <td>5.26</td>\n",
       "      <td>0.0</td>\n",
       "      <td>...</td>\n",
       "      <td>0.0</td>\n",
       "      <td>0.00</td>\n",
       "      <td>0.0</td>\n",
       "      <td>0.0</td>\n",
       "      <td>0.0</td>\n",
       "      <td>0.0</td>\n",
       "      <td>0.0</td>\n",
       "      <td>0.00</td>\n",
       "      <td>0.0</td>\n",
       "      <td>1.0</td>\n",
       "    </tr>\n",
       "    <tr>\n",
       "      <th>2</th>\n",
       "      <td>0.0</td>\n",
       "      <td>0.00</td>\n",
       "      <td>0.00</td>\n",
       "      <td>0.0</td>\n",
       "      <td>0.0</td>\n",
       "      <td>0.0</td>\n",
       "      <td>5.26</td>\n",
       "      <td>0.0</td>\n",
       "      <td>0.00</td>\n",
       "      <td>0.0</td>\n",
       "      <td>...</td>\n",
       "      <td>0.0</td>\n",
       "      <td>5.26</td>\n",
       "      <td>0.0</td>\n",
       "      <td>0.0</td>\n",
       "      <td>0.0</td>\n",
       "      <td>0.0</td>\n",
       "      <td>0.0</td>\n",
       "      <td>0.00</td>\n",
       "      <td>0.0</td>\n",
       "      <td>1.0</td>\n",
       "    </tr>\n",
       "  </tbody>\n",
       "</table>\n",
       "<p>3 rows × 401 columns</p>\n",
       "</div>"
      ],
      "text/plain": [
       "    GW    GV    GT   GS   GR   GQ    GP   GY    GG   GF  ...   AQ    AP   AS  \\\n",
       "0  0.0  5.26  5.26  0.0  0.0  0.0  0.00  0.0  5.26  0.0  ...  0.0  0.00  0.0   \n",
       "1  0.0  5.26  0.00  0.0  0.0  0.0  0.00  0.0  5.26  0.0  ...  0.0  0.00  0.0   \n",
       "2  0.0  0.00  0.00  0.0  0.0  0.0  5.26  0.0  0.00  0.0  ...  0.0  5.26  0.0   \n",
       "\n",
       "    AR   AT   AW   AV    AY   VK  Classe  \n",
       "0  0.0  0.0  0.0  0.0  5.26  0.0     1.0  \n",
       "1  0.0  0.0  0.0  0.0  0.00  0.0     1.0  \n",
       "2  0.0  0.0  0.0  0.0  0.00  0.0     1.0  \n",
       "\n",
       "[3 rows x 401 columns]"
      ]
     },
     "execution_count": 8,
     "metadata": {},
     "output_type": "execute_result"
    }
   ],
   "source": [
    "DadosTreinoFeaturizados.head(n=3)"
   ]
  },
  {
   "cell_type": "code",
   "execution_count": 23,
   "metadata": {},
   "outputs": [],
   "source": [
    "#git clone https://github.com/saurabhnagrecha/Pandas-to-ARFF.git\n",
    "\n",
    "#You can do this in 2 ways. First is just to import the specific function you want from file.py. To do this use\n",
    "\n",
    "#from file import function\n",
    "\n",
    "#Another way is to import the entire file\n",
    "\n",
    "#import file as fl\n",
    "\n",
    "#Then you can call any function inside file.py using\n",
    "\n",
    "#fl.function(a,b)\n",
    "\n",
    "\n",
    "from pandas2arff import pandas2arff"
   ]
  },
  {
   "cell_type": "code",
   "execution_count": null,
   "metadata": {},
   "outputs": [],
   "source": [
    "pandas2arff(df=DadosTreinoFeaturizados, filename=\"DadosTreinoFeaturizadosWeka.WEKA\", \n",
    "            wekaname=\"DadosTreinoFeaturizadosWeka\", cleanstringdata=True, cleannan=True)"
   ]
  }
 ],
 "metadata": {
  "kernelspec": {
   "display_name": "Python 2",
   "language": "python",
   "name": "python2"
  },
  "language_info": {
   "codemirror_mode": {
    "name": "ipython",
    "version": 2
   },
   "file_extension": ".py",
   "mimetype": "text/x-python",
   "name": "python",
   "nbconvert_exporter": "python",
   "pygments_lexer": "ipython2",
   "version": "2.7.15rc1"
  }
 },
 "nbformat": 4,
 "nbformat_minor": 2
}
